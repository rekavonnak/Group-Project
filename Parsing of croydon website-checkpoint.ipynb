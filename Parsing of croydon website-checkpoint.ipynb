{
 "cells": [
  {
   "cell_type": "code",
   "execution_count": 1,
   "metadata": {},
   "outputs": [],
   "source": [
    "import os\n",
    "import glob\n",
    "import pandas as pd"
   ]
  },
  {
   "cell_type": "code",
   "execution_count": 2,
   "metadata": {},
   "outputs": [],
   "source": [
    "from bs4 import BeautifulSoup\n",
    "soup = BeautifulSoup('', 'html.parser')\n"
   ]
  },
  {
   "cell_type": "code",
   "execution_count": 8,
   "metadata": {},
   "outputs": [
    {
     "name": "stdout",
     "output_type": "stream",
     "text": [
      "Requirement already up-to-date: selenium in c:\\users\\intra24\\appdata\\roaming\\python\\python37\\site-packages (3.141.0)\n",
      "Requirement already satisfied, skipping upgrade: urllib3 in c:\\users\\intra24\\anaconda3\\lib\\site-packages (from selenium) (1.24.2)\n"
     ]
    }
   ],
   "source": [
    "!pip install -U selenium"
   ]
  },
  {
   "cell_type": "code",
   "execution_count": 3,
   "metadata": {},
   "outputs": [],
   "source": [
    "from selenium.webdriver import FirefoxProfile\n",
    "from selenium import webdriver\n",
    "from selenium.webdriver.common.by import By"
   ]
  },
  {
   "cell_type": "code",
   "execution_count": 4,
   "metadata": {},
   "outputs": [],
   "source": [
    "import time"
   ]
  },
  {
   "cell_type": "code",
   "execution_count": 62,
   "metadata": {},
   "outputs": [],
   "source": [
    "class application:\n",
    "        def __init__(self):\n",
    "            self.dow_path=r'C:\\Users\\Intra24\\Desktop\\Glasgow_uni\\Group_project\\Croydon'\n",
    "            self.url='https://publicaccess3.croydon.gov.uk/online-applications/search.do?action=simple&searchType=Application'\n",
    "            self.profile = FirefoxProfile()\n",
    "            self.profile.set_preference(\"browser.download.panel.shown\", False)\n",
    "            self.profile.set_preference('browser.helperApps.neverAsk.saveToDisk', \"application/vnd.openxmlformats-officedocument.spreadsheetml.sheet\")\n",
    "            self.profile.set_preference(\"browser.download.folderList\",2)\n",
    "            self.profile.set_preference(\"browser.download.dir\", self.dow_path)\n",
    "            self.dict_ref=dict() \n",
    "            self.browser=webdriver.Firefox( firefox_profile=self.profile)\n",
    "        def add_ref(self, ref_number,i):\n",
    "            \n",
    "            self.browser.get(self.url)\n",
    "            self.browser.find_element_by_name(\"searchCriteria.simpleSearchString\").send_keys(ref_number)\n",
    "            python_button=False\n",
    "            while not python_button:\n",
    "                python_button=self.browser.find_element(By.XPATH, '//form[@name=\"searchCriteriaForm\"]/div[3]/input[3]')\n",
    "                python_button.click()\n",
    "                time.sleep(8)\n",
    "            self.soup=BeautifulSoup(self.browser.page_source, 'html.parser')\n",
    "            self.dict_ref[i]=self.get_dict(ref_number)\n",
    "        def get_dict(self, ref_number):\n",
    "#             table = soup.find(name='table')\n",
    "            table = self.soup.find (id='simpleDetailsTable')\n",
    "            print(type(table))\n",
    "#             print(self.browser.page_source, type(table))\n",
    "            time.sleep(3)\n",
    "            cols=[]\n",
    "            names=[]\n",
    "            try:\n",
    "                table_body = table.find('tbody')\n",
    "                rows = table_body.find_all('tr')\n",
    "                for row in rows:\n",
    "                    col = row.find_all('td')\n",
    "                    cols += [ele.text.strip() for ele in col]\n",
    "                    name=row.find_all('th')\n",
    "                    names+=[ele.text.strip() for ele in name]\n",
    "                print(ref_number, 'ok')\n",
    "                \n",
    "            except:\n",
    "                print(ref_number, 'error')\n",
    "            return (dict(zip(names, cols)))\n",
    "\n",
    "#         def get_browser(self,ref_number):\n",
    "            \n",
    "#             print(2)\n",
    "#             return "
   ]
  },
  {
   "cell_type": "code",
   "execution_count": 6,
   "metadata": {
    "scrolled": true
   },
   "outputs": [],
   "source": [
    "df=pd.read_csv(open(r'C:\\Users\\Intra24\\Desktop\\Glasgow_uni\\Group_project\\croydon_applications.csv'))"
   ]
  },
  {
   "cell_type": "code",
   "execution_count": 7,
   "metadata": {},
   "outputs": [],
   "source": [
    "df.rename(columns={'Lead Planning Application Number':'app_number'}, inplace=True)"
   ]
  },
  {
   "cell_type": "code",
   "execution_count": 50,
   "metadata": {
    "scrolled": true
   },
   "outputs": [],
   "source": [
    "i_part=df[df['Assigned to']=='Inessa']"
   ]
  },
  {
   "cell_type": "code",
   "execution_count": 63,
   "metadata": {},
   "outputs": [],
   "source": [
    "list_app=application()\n",
    "i=0"
   ]
  },
  {
   "cell_type": "code",
   "execution_count": null,
   "metadata": {
    "scrolled": true
   },
   "outputs": [
    {
     "name": "stdout",
     "output_type": "stream",
     "text": [
      "17/05266/FUL\n",
      "<class 'bs4.element.Tag'>\n",
      "17/05266/FUL ok\n",
      "{'Reference': '17/05266/FUL', 'Alternative Reference': 'PP-06474461', 'Application Received': '?? 20 ??? 2017', 'Application Validated': '?? 30 ??? 2017', 'Address': '755-757 London Road Thornton Heath CR7 6AW', 'Proposal': 'Demolition of the existing building; erection of a four storey building providing commerical on the ground floor and seven self contained flats above', 'Status': 'Decided', 'Decision': 'Permission Granted', 'Decision Issued Date': '?? 25 ??? 2018', 'Appeal Status': 'Unknown', 'Appeal Decision': 'Not Available'}\n",
      "19/03074/FUL\n",
      "<class 'NoneType'>\n",
      "19/03074/FUL error\n",
      "{}\n",
      "17/00663/FUL\n",
      "<class 'NoneType'>\n",
      "17/00663/FUL error\n",
      "{}\n",
      "19/03385/FUL\n",
      "<class 'bs4.element.Tag'>\n",
      "19/03385/FUL ok\n",
      "{'Reference': '19/03385/FUL', 'Alternative Reference': 'PP-08006555', 'Application Received': '?? 18 ??? 2019', 'Application Validated': '?? 18 ??? 2019', 'Address': '34 Caterham Drive Coulsdon CR5 1JF', 'Proposal': 'Demolition of existing dwelling and garage and erection of a three storey building comprising 6 flats (3 x 3 bed, 1 x 2 bed and 2 x 1 bed), 3 parking spaces, communal amenity space and cycle / refuse / recycle storage', 'Status': 'Decided', 'Decision': 'Permission Granted', 'Decision Issued Date': '?? 22 ??? 2019', 'Appeal Status': 'Unknown', 'Appeal Decision': 'Not Available'}\n",
      "19/05034/FUL\n",
      "<class 'NoneType'>\n",
      "19/05034/FUL error\n",
      "{}\n",
      "19/04649/RSM\n",
      "<class 'NoneType'>\n",
      "19/04649/RSM error\n",
      "{}\n",
      "19/03559/FUL\n",
      "<class 'bs4.element.Tag'>\n",
      "19/03559/FUL ok\n",
      "{'Reference': '19/03559/FUL', 'Alternative Reference': 'PP-08029571', 'Application Received': '?? 29 ??? 2019', 'Application Validated': '?? 13 ??? 2019', 'Address': 'Warehouse 330B Chipstead Valley Road Coulsdon CR5 3BE', 'Proposal': 'Demolition of existing warehouse (Flexible Use Class B1b/B1c/B2/B8) and erection of a three storey building consisting of 1 x 3 bedroom and 2 x 2 bedroom units with associated cycle/waste stores, car parking and landscaping.', 'Status': 'Decided', 'Decision': 'Permission Granted', 'Decision Issued Date': '?? 20 ??? 2019', 'Appeal Status': 'Unknown', 'Appeal Decision': 'Not Available'}\n",
      "19/05373/FUL\n",
      "<class 'NoneType'>\n",
      "19/05373/FUL error\n",
      "{}\n",
      "19/04150/FUL\n"
     ]
    }
   ],
   "source": [
    "for ref in i_part.app_number:\n",
    "    print(ref)\n",
    "    list_app.add_ref(ref, i)\n",
    "    print(list_app.dict_ref[i])\n",
    "    i+=1"
   ]
  },
  {
   "cell_type": "code",
   "execution_count": 59,
   "metadata": {},
   "outputs": [
    {
     "data": {
      "text/plain": [
       "{0: {}}"
      ]
     },
     "execution_count": 59,
     "metadata": {},
     "output_type": "execute_result"
    }
   ],
   "source": [
    "list_app.dict_ref"
   ]
  },
  {
   "cell_type": "code",
   "execution_count": 104,
   "metadata": {},
   "outputs": [],
   "source": [
    "list_app.browser.page_source\n",
    "soup=BeautifulSoup(list_app.browser.page_source, 'html.parser')\n",
    "data = []\n",
    "table = soup.find (id='simpleDetailsTable')"
   ]
  },
  {
   "cell_type": "code",
   "execution_count": 105,
   "metadata": {},
   "outputs": [
    {
     "data": {
      "text/plain": [
       "NoneType"
      ]
     },
     "execution_count": 105,
     "metadata": {},
     "output_type": "execute_result"
    }
   ],
   "source": [
    "type(table)"
   ]
  },
  {
   "cell_type": "code",
   "execution_count": 25,
   "metadata": {},
   "outputs": [],
   "source": []
  },
  {
   "cell_type": "code",
   "execution_count": 56,
   "metadata": {},
   "outputs": [
    {
     "name": "stdout",
     "output_type": "stream",
     "text": [
      "<class 'bs4.element.Tag'>\n"
     ]
    }
   ],
   "source": [
    "soup=BeautifulSoup(list_app.browser.page_source, 'html.parser')\n",
    "data = []\n",
    "table = soup.find(name='table')\n",
    "print(type(table))\n",
    "table_body = table.find('tbody')\n",
    "cols=[]\n",
    "names=[]\n",
    "rows = table_body.find_all('tr')\n",
    "for row in rows:\n",
    "    col = row.find_all('td')\n",
    "    cols += [ele.text.strip() for ele in col]\n",
    "    name=row.find_all('th')\n",
    "    names+=[ele.text.strip() for ele in name]"
   ]
  },
  {
   "cell_type": "code",
   "execution_count": 29,
   "metadata": {},
   "outputs": [
    {
     "data": {
      "text/plain": [
       "['19/05303/FUL',\n",
       " 'PP-08242994',\n",
       " '?? 08 ??? 2019',\n",
       " '?? 08 ??? 2019',\n",
       " '53 Homefield Road Coulsdon CR5 1ET',\n",
       " 'Demolition of an existing bungalow and construction of a two and a half storey detached residential building with accommodation in the roof space comprising 5 flats with associated bin and cycle stores, alterations to provide 4 car parking spaces at front.',\n",
       " 'Decided',\n",
       " 'Permission Refused',\n",
       " '?? 04 ??? 2020',\n",
       " 'Unknown',\n",
       " 'Not Available']"
      ]
     },
     "execution_count": 29,
     "metadata": {},
     "output_type": "execute_result"
    }
   ],
   "source": [
    "cols"
   ]
  },
  {
   "cell_type": "code",
   "execution_count": 122,
   "metadata": {},
   "outputs": [],
   "source": [
    "list_app.add_ref('17/05266/FUL', i)"
   ]
  },
  {
   "cell_type": "code",
   "execution_count": 123,
   "metadata": {},
   "outputs": [
    {
     "data": {
      "text/plain": [
       "{0: {'Reference': '17/05266/FUL',\n",
       "  'Alternative Reference': 'PP-06474461',\n",
       "  'Application Received': '?? 20 ??? 2017',\n",
       "  'Application Validated': '?? 30 ??? 2017',\n",
       "  'Address': '755-757 London Road Thornton Heath CR7 6AW',\n",
       "  'Proposal': 'Demolition of the existing building; erection of a four storey building providing commerical on the ground floor and seven self contained flats above',\n",
       "  'Status': 'Decided',\n",
       "  'Decision': 'Permission Granted',\n",
       "  'Decision Issued Date': '?? 25 ??? 2018',\n",
       "  'Appeal Status': 'Unknown',\n",
       "  'Appeal Decision': 'Not Available'}}"
      ]
     },
     "execution_count": 123,
     "metadata": {},
     "output_type": "execute_result"
    }
   ],
   "source": [
    "list_app.dict_ref"
   ]
  },
  {
   "cell_type": "code",
   "execution_count": 1,
   "metadata": {},
   "outputs": [
    {
     "ename": "NameError",
     "evalue": "name 'names' is not defined",
     "output_type": "error",
     "traceback": [
      "\u001b[1;31m---------------------------------------------------------------------------\u001b[0m",
      "\u001b[1;31mNameError\u001b[0m                                 Traceback (most recent call last)",
      "\u001b[1;32m<ipython-input-1-540838698b75>\u001b[0m in \u001b[0;36m<module>\u001b[1;34m\u001b[0m\n\u001b[0;32m      1\u001b[0m \u001b[0mdic\u001b[0m\u001b[1;33m=\u001b[0m\u001b[0mdict\u001b[0m\u001b[1;33m(\u001b[0m\u001b[1;33m)\u001b[0m\u001b[1;33m\u001b[0m\u001b[1;33m\u001b[0m\u001b[0m\n\u001b[1;32m----> 2\u001b[1;33m \u001b[0mdic\u001b[0m\u001b[1;33m[\u001b[0m\u001b[1;36m0\u001b[0m\u001b[1;33m]\u001b[0m\u001b[1;33m=\u001b[0m\u001b[0mdict\u001b[0m\u001b[1;33m(\u001b[0m\u001b[0mzip\u001b[0m\u001b[1;33m(\u001b[0m\u001b[0mnames\u001b[0m\u001b[1;33m,\u001b[0m\u001b[0mcols\u001b[0m\u001b[1;33m)\u001b[0m\u001b[1;33m)\u001b[0m\u001b[1;33m\u001b[0m\u001b[1;33m\u001b[0m\u001b[0m\n\u001b[0m\u001b[0;32m      3\u001b[0m \u001b[0mpd\u001b[0m\u001b[1;33m.\u001b[0m\u001b[0mDataFrame\u001b[0m\u001b[1;33m(\u001b[0m\u001b[0mdic\u001b[0m\u001b[1;33m)\u001b[0m\u001b[1;33m.\u001b[0m\u001b[0mT\u001b[0m\u001b[1;33m\u001b[0m\u001b[1;33m\u001b[0m\u001b[0m\n",
      "\u001b[1;31mNameError\u001b[0m: name 'names' is not defined"
     ]
    }
   ],
   "source": [
    "dic=dict()\n",
    "dic[0]=dict(zip(names,cols))\n",
    "pd.DataFrame(dic).T"
   ]
  },
  {
   "cell_type": "code",
   "execution_count": null,
   "metadata": {},
   "outputs": [],
   "source": []
  }
 ],
 "metadata": {
  "kernelspec": {
   "display_name": "Python 3",
   "language": "python",
   "name": "python3"
  },
  "language_info": {
   "codemirror_mode": {
    "name": "ipython",
    "version": 3
   },
   "file_extension": ".py",
   "mimetype": "text/x-python",
   "name": "python",
   "nbconvert_exporter": "python",
   "pygments_lexer": "ipython3",
   "version": "3.7.4"
  }
 },
 "nbformat": 4,
 "nbformat_minor": 2
}
