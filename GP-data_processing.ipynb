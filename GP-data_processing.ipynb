{
 "cells": [
  {
   "cell_type": "code",
   "execution_count": 27,
   "metadata": {},
   "outputs": [],
   "source": [
    "from matplotlib import pyplot as plt\n",
    "\n",
    "from sklearn.preprocessing import StandardScaler\n",
    "\n",
    "import pandas as pd\n",
    "import numpy as np\n",
    "from sklearn.linear_model import LogisticRegression\n",
    "\n",
    "import geopandas as gpd"
   ]
  },
  {
   "cell_type": "code",
   "execution_count": 706,
   "metadata": {},
   "outputs": [],
   "source": [
    "df=gpd.read_file(r'C:\\Users\\Intra24\\Desktop\\Glasgow_uni\\Group_project\\planning_applications.gpkg')"
   ]
  },
  {
   "cell_type": "markdown",
   "metadata": {},
   "source": [
    "### Creating new bedrooms described variables "
   ]
  },
  {
   "cell_type": "code",
   "execution_count": 707,
   "metadata": {},
   "outputs": [
    {
     "data": {
      "text/html": [
       "<div>\n",
       "<style scoped>\n",
       "    .dataframe tbody tr th:only-of-type {\n",
       "        vertical-align: middle;\n",
       "    }\n",
       "\n",
       "    .dataframe tbody tr th {\n",
       "        vertical-align: top;\n",
       "    }\n",
       "\n",
       "    .dataframe thead th {\n",
       "        text-align: right;\n",
       "    }\n",
       "</style>\n",
       "<table border=\"1\" class=\"dataframe\">\n",
       "  <thead>\n",
       "    <tr style=\"text-align: right;\">\n",
       "      <th></th>\n",
       "      <th>one_bed_units</th>\n",
       "      <th>two_bed_units</th>\n",
       "      <th>three_bed_units</th>\n",
       "      <th>four_plus_bed_units</th>\n",
       "      <th>studio_units</th>\n",
       "    </tr>\n",
       "  </thead>\n",
       "  <tbody>\n",
       "    <tr>\n",
       "      <td>0</td>\n",
       "      <td>NaN</td>\n",
       "      <td>NaN</td>\n",
       "      <td>NaN</td>\n",
       "      <td>NaN</td>\n",
       "      <td>NaN</td>\n",
       "    </tr>\n",
       "    <tr>\n",
       "      <td>1</td>\n",
       "      <td>NaN</td>\n",
       "      <td>NaN</td>\n",
       "      <td>NaN</td>\n",
       "      <td>NaN</td>\n",
       "      <td>NaN</td>\n",
       "    </tr>\n",
       "    <tr>\n",
       "      <td>2</td>\n",
       "      <td>NaN</td>\n",
       "      <td>NaN</td>\n",
       "      <td>NaN</td>\n",
       "      <td>NaN</td>\n",
       "      <td>NaN</td>\n",
       "    </tr>\n",
       "    <tr>\n",
       "      <td>3</td>\n",
       "      <td>NaN</td>\n",
       "      <td>NaN</td>\n",
       "      <td>NaN</td>\n",
       "      <td>NaN</td>\n",
       "      <td>NaN</td>\n",
       "    </tr>\n",
       "    <tr>\n",
       "      <td>4</td>\n",
       "      <td>NaN</td>\n",
       "      <td>NaN</td>\n",
       "      <td>NaN</td>\n",
       "      <td>NaN</td>\n",
       "      <td>NaN</td>\n",
       "    </tr>\n",
       "  </tbody>\n",
       "</table>\n",
       "</div>"
      ],
      "text/plain": [
       "   one_bed_units  two_bed_units  three_bed_units  four_plus_bed_units  \\\n",
       "0            NaN            NaN              NaN                  NaN   \n",
       "1            NaN            NaN              NaN                  NaN   \n",
       "2            NaN            NaN              NaN                  NaN   \n",
       "3            NaN            NaN              NaN                  NaN   \n",
       "4            NaN            NaN              NaN                  NaN   \n",
       "\n",
       "   studio_units  \n",
       "0           NaN  \n",
       "1           NaN  \n",
       "2           NaN  \n",
       "3           NaN  \n",
       "4           NaN  "
      ]
     },
     "execution_count": 707,
     "metadata": {},
     "output_type": "execute_result"
    }
   ],
   "source": [
    "df_bed=df[[ i for i in df.columns if 'bed' in i or 'studio' in i]]\n",
    "df_bed.head()"
   ]
  },
  {
   "cell_type": "code",
   "execution_count": 708,
   "metadata": {},
   "outputs": [
    {
     "data": {
      "text/plain": [
       "one_bed_units           58\n",
       "two_bed_units           13\n",
       "three_bed_units         90\n",
       "four_plus_bed_units    108\n",
       "studio_units           111\n",
       "dtype: int64"
      ]
     },
     "execution_count": 708,
     "metadata": {},
     "output_type": "execute_result"
    }
   ],
   "source": [
    "df_bed.isnull().sum()+(df_bed==0).sum()"
   ]
  },
  {
   "cell_type": "code",
   "execution_count": 709,
   "metadata": {},
   "outputs": [],
   "source": [
    "df_bed=df_bed[df_bed.isnull().sum(axis=1)!=5]"
   ]
  },
  {
   "cell_type": "code",
   "execution_count": 710,
   "metadata": {},
   "outputs": [],
   "source": [
    "df_bed.fillna(0, inplace=True)"
   ]
  },
  {
   "cell_type": "code",
   "execution_count": 711,
   "metadata": {},
   "outputs": [],
   "source": [
    "df_bed['three_more']=df_bed['three_bed_units']+df_bed['four_plus_bed_units']\n",
    "df_bed['two_more']=df_bed['two_bed_units']+df_bed['three_more']\n"
   ]
  },
  {
   "cell_type": "code",
   "execution_count": 712,
   "metadata": {},
   "outputs": [],
   "source": [
    "df_bed['one_bed_units']=df_bed['one_bed_units']+df_bed['studio_units']"
   ]
  },
  {
   "cell_type": "markdown",
   "metadata": {},
   "source": [
    "### Concatenate dataset with original building  and proposals. Calculation of ratio of both areas"
   ]
  },
  {
   "cell_type": "code",
   "execution_count": 713,
   "metadata": {},
   "outputs": [],
   "source": [
    "df_orig=gpd.read_file(r'C:\\Users\\Intra24\\Desktop\\Glasgow_uni\\Group_project\\block_plans_original_buildings.gpkg')"
   ]
  },
  {
   "cell_type": "code",
   "execution_count": 714,
   "metadata": {},
   "outputs": [],
   "source": [
    "df.drop([ i for i in df.columns if i in df_bed.columns], axis=1, inplace=True)"
   ]
  },
  {
   "cell_type": "code",
   "execution_count": 715,
   "metadata": {},
   "outputs": [],
   "source": [
    "df=df.join(df_bed)"
   ]
  },
  {
   "cell_type": "code",
   "execution_count": 716,
   "metadata": {},
   "outputs": [],
   "source": [
    "df['area1']=df.area"
   ]
  },
  {
   "cell_type": "code",
   "execution_count": 717,
   "metadata": {},
   "outputs": [],
   "source": [
    "df_orig['area2']=df_orig.area"
   ]
  },
  {
   "cell_type": "code",
   "execution_count": 718,
   "metadata": {},
   "outputs": [
    {
     "data": {
      "text/plain": [
       "(array([43., 44., 20.,  8.,  2.,  1.,  2.,  0.,  0.,  1.]),\n",
       " array([6.8625000e-01, 7.5644270e+01, 1.5060229e+02, 2.2556031e+02,\n",
       "        3.0051833e+02, 3.7547635e+02, 4.5043437e+02, 5.2539239e+02,\n",
       "        6.0035041e+02, 6.7530843e+02, 7.5026645e+02]),\n",
       " <a list of 10 Patch objects>)"
      ]
     },
     "execution_count": 718,
     "metadata": {},
     "output_type": "execute_result"
    },
    {
     "data": {
      "image/png": "[encoded data removed]",
      "text/plain": [
       "<Figure size 432x288 with 1 Axes>"
      ]
     },
     "metadata": {
      "needs_background": "light"
     },
     "output_type": "display_data"
    }
   ],
   "source": [
    "plt.hist(df_orig['area2'])"
   ]
  },
  {
   "cell_type": "code",
   "execution_count": 719,
   "metadata": {},
   "outputs": [
    {
     "data": {
      "text/plain": [
       "(array([11., 40., 31., 14.,  9.,  1.,  1.,  2.,  1.,  3.]),\n",
       " array([ 88.24199777, 167.58502697, 246.92805616, 326.27108535,\n",
       "        405.61411455, 484.95714374, 564.30017293, 643.64320213,\n",
       "        722.98623132, 802.32926051, 881.67228971]),\n",
       " <a list of 10 Patch objects>)"
      ]
     },
     "execution_count": 719,
     "metadata": {},
     "output_type": "execute_result"
    },
    {
     "data": {
      "image/png": "[encoded data removed]",
      "text/plain": [
       "<Figure size 432x288 with 1 Axes>"
      ]
     },
     "metadata": {
      "needs_background": "light"
     },
     "output_type": "display_data"
    }
   ],
   "source": [
    "plt.hist(df['area1'])"
   ]
  },
  {
   "cell_type": "code",
   "execution_count": 720,
   "metadata": {
    "scrolled": true
   },
   "outputs": [
    {
     "name": "stderr",
     "output_type": "stream",
     "text": [
      "C:\\Users\\Intra24\\Anaconda3\\lib\\site-packages\\numpy\\lib\\function_base.py:2167: RuntimeWarning: invalid value encountered in ? (vectorized)\n",
      "  outputs = ufunc(*inputs)\n"
     ]
    }
   ],
   "source": [
    "df_joined=gpd.sjoin(left_df=df_orig, right_df=df, op='intersects')\n",
    "df_joined['area1/area2']=df_joined['area1']/df_joined['area2']"
   ]
  },
  {
   "cell_type": "code",
   "execution_count": 721,
   "metadata": {},
   "outputs": [
    {
     "name": "stdout",
     "output_type": "stream",
     "text": [
      "3 apps were lost -  110\n"
     ]
    }
   ],
   "source": [
    "print('3 apps were lost - ', df_joined['planning_application'].nunique())"
   ]
  },
  {
   "cell_type": "code",
   "execution_count": 722,
   "metadata": {},
   "outputs": [
    {
     "data": {
      "text/plain": [
       "2      222.100950\n",
       "3      179.004183\n",
       "4      253.683995\n",
       "4      253.683995\n",
       "5      210.317871\n",
       "          ...    \n",
       "118     82.637500\n",
       "118     82.637500\n",
       "118     82.637500\n",
       "119    135.473667\n",
       "119    135.473667\n",
       "Name: area2, Length: 162, dtype: float64"
      ]
     },
     "execution_count": 722,
     "metadata": {},
     "output_type": "execute_result"
    }
   ],
   "source": [
    "df_joined['area2']"
   ]
  },
  {
   "cell_type": "code",
   "execution_count": 723,
   "metadata": {},
   "outputs": [
    {
     "data": {
      "text/plain": [
       "0      313.824402\n",
       "1      318.270177\n",
       "2      356.178932\n",
       "3      361.439271\n",
       "4      325.165340\n",
       "          ...    \n",
       "157    191.338884\n",
       "158    226.916897\n",
       "159    259.509510\n",
       "160    243.732103\n",
       "161    267.782434\n",
       "Length: 162, dtype: float64"
      ]
     },
     "execution_count": 723,
     "metadata": {},
     "output_type": "execute_result"
    }
   ],
   "source": [
    "df_joined=df_joined.merge(df[['planning_application','geometry']], on='planning_application', how='inner').rename(columns={'geometry_x':'geom_original','geometry_y':'geom_proposed'})\n",
    "df_joined=gpd.GeoDataFrame(df_joined, crs={'epsg':'27700'}, geometry='geom_proposed')\n",
    "df_joined.area"
   ]
  },
  {
   "cell_type": "code",
   "execution_count": 724,
   "metadata": {},
   "outputs": [
    {
     "data": {
      "text/plain": [
       "278.37227582734135"
      ]
     },
     "execution_count": 724,
     "metadata": {},
     "output_type": "execute_result"
    }
   ],
   "source": [
    "df_joined['area1'].median()"
   ]
  },
  {
   "cell_type": "code",
   "execution_count": 725,
   "metadata": {},
   "outputs": [
    {
     "data": {
      "text/plain": [
       "110.70552500014111"
      ]
     },
     "execution_count": 725,
     "metadata": {},
     "output_type": "execute_result"
    }
   ],
   "source": [
    "df_joined['area2'].median()"
   ]
  },
  {
   "cell_type": "markdown",
   "metadata": {},
   "source": [
    "### Concatinate dataset with land area"
   ]
  },
  {
   "cell_type": "code",
   "execution_count": 726,
   "metadata": {},
   "outputs": [],
   "source": [
    "df_land=gpd.read_file(r'C:\\Users\\Intra24\\Desktop\\Glasgow_uni\\Group_project\\Bromley\\Land_Registry_Cadastral_Parcels.gml')"
   ]
  },
  {
   "cell_type": "code",
   "execution_count": 727,
   "metadata": {},
   "outputs": [
    {
     "data": {
      "text/plain": [
       "18"
      ]
     },
     "execution_count": 727,
     "metadata": {},
     "output_type": "execute_result"
    }
   ],
   "source": [
    "df_joined['inspire_ids'].apply(lambda x: len(x)>8).sum()"
   ]
  },
  {
   "cell_type": "code",
   "execution_count": 728,
   "metadata": {},
   "outputs": [],
   "source": [
    "df_joined['inspire_1']=''\n",
    "df_joined['inspire_2']=''\n",
    "#df_joined[['inspire_1','inspire_2']]=df_joined['inspire_ids'].apply(lambda x: [None,x] if len(x)==8 else x.split('|'))"
   ]
  },
  {
   "cell_type": "code",
   "execution_count": 729,
   "metadata": {},
   "outputs": [],
   "source": [
    "df_joined['inspire_1']=df_joined['inspire_ids'].apply(lambda x: x if len(x)==8 else x.split('|')[0])\n",
    "df_joined['inspire_2']=df_joined['inspire_ids'].apply(lambda x: None if len(x)==8 else x.split('|')[1])                                  \n",
    "\n",
    "df_land['land_area']=df_land.area\n",
    "\n",
    "df_land['INSPIREID']=df_land['INSPIREID'].astype(str)"
   ]
  },
  {
   "cell_type": "code",
   "execution_count": 730,
   "metadata": {},
   "outputs": [],
   "source": [
    "df_joined_land1=df_joined.merge(df_land[['INSPIREID','geometry','land_area']], how='inner', left_on='inspire_1',right_on='INSPIREID')\n",
    "df_joined_land1.rename(columns={'geometry':'geometry_land1'},inplace=True)\n",
    "df_joined_land2=df_joined_land1.merge(df_land[['INSPIREID','geometry','land_area']], how='left', left_on='inspire_2',right_on='INSPIREID')\n",
    "df_joined_land2.rename(columns={'geometry':'geometry_land2'},inplace=True)"
   ]
  },
  {
   "cell_type": "code",
   "execution_count": 731,
   "metadata": {},
   "outputs": [
    {
     "name": "stdout",
     "output_type": "stream",
     "text": [
      "10 rows were lost. Finally 102\n"
     ]
    }
   ],
   "source": [
    "print ( '10 rows were lost. Finally',df_joined_land1['planning_application'].nunique())"
   ]
  },
  {
   "cell_type": "code",
   "execution_count": 614,
   "metadata": {
    "scrolled": true
   },
   "outputs": [
    {
     "data": {
      "text/html": [
       "<div>\n",
       "<style scoped>\n",
       "    .dataframe tbody tr th:only-of-type {\n",
       "        vertical-align: middle;\n",
       "    }\n",
       "\n",
       "    .dataframe tbody tr th {\n",
       "        vertical-align: top;\n",
       "    }\n",
       "\n",
       "    .dataframe thead th {\n",
       "        text-align: right;\n",
       "    }\n",
       "</style>\n",
       "<table border=\"1\" class=\"dataframe\">\n",
       "  <thead>\n",
       "    <tr style=\"text-align: right;\">\n",
       "      <th></th>\n",
       "      <th>geom_original</th>\n",
       "      <th>area2</th>\n",
       "      <th>index_right</th>\n",
       "      <th>planning_application</th>\n",
       "      <th>max_height</th>\n",
       "      <th>parking_spaces</th>\n",
       "      <th>has_underground_parking</th>\n",
       "      <th>on_highstreet</th>\n",
       "      <th>postcode</th>\n",
       "      <th>status</th>\n",
       "      <th>...</th>\n",
       "      <th>area1/area2</th>\n",
       "      <th>geom_proposed</th>\n",
       "      <th>inspire_1</th>\n",
       "      <th>inspire_2</th>\n",
       "      <th>INSPIREID_x</th>\n",
       "      <th>geometry_land1</th>\n",
       "      <th>land_area_x</th>\n",
       "      <th>INSPIREID_y</th>\n",
       "      <th>geometry_land2</th>\n",
       "      <th>land_area_y</th>\n",
       "    </tr>\n",
       "  </thead>\n",
       "  <tbody>\n",
       "    <tr>\n",
       "      <td>0</td>\n",
       "      <td>MULTIPOLYGON (((543130.000 169379.300, 543138....</td>\n",
       "      <td>222.100950</td>\n",
       "      <td>0</td>\n",
       "      <td>18/04199/OUT</td>\n",
       "      <td>NaN</td>\n",
       "      <td>11</td>\n",
       "      <td>False</td>\n",
       "      <td>False</td>\n",
       "      <td>BR1 2AP</td>\n",
       "      <td>approved</td>\n",
       "      <td>...</td>\n",
       "      <td>1.412981</td>\n",
       "      <td>MULTIPOLYGON (((543120.791 169400.554, 543120....</td>\n",
       "      <td>40879904</td>\n",
       "      <td>None</td>\n",
       "      <td>40879904</td>\n",
       "      <td>POLYGON ((543101.530 169375.566, 543101.844 16...</td>\n",
       "      <td>2624.275593</td>\n",
       "      <td>NaN</td>\n",
       "      <td>None</td>\n",
       "      <td>NaN</td>\n",
       "    </tr>\n",
       "    <tr>\n",
       "      <td>1</td>\n",
       "      <td>MULTIPOLYGON (((542476.420 168909.280, 542472....</td>\n",
       "      <td>179.004183</td>\n",
       "      <td>1</td>\n",
       "      <td>16/04099/FULL1</td>\n",
       "      <td>8.802</td>\n",
       "      <td>8</td>\n",
       "      <td>None</td>\n",
       "      <td>False</td>\n",
       "      <td>BR1 2AT</td>\n",
       "      <td>appeal_dismissed</td>\n",
       "      <td>...</td>\n",
       "      <td>1.778004</td>\n",
       "      <td>MULTIPOLYGON (((542465.938 168905.990, 542467....</td>\n",
       "      <td>39022637</td>\n",
       "      <td>None</td>\n",
       "      <td>39022637</td>\n",
       "      <td>POLYGON ((542462.650 168918.750, 542464.250 16...</td>\n",
       "      <td>1616.181000</td>\n",
       "      <td>NaN</td>\n",
       "      <td>None</td>\n",
       "      <td>NaN</td>\n",
       "    </tr>\n",
       "    <tr>\n",
       "      <td>2</td>\n",
       "      <td>MULTIPOLYGON (((542794.969 168934.316, 542805....</td>\n",
       "      <td>253.683995</td>\n",
       "      <td>2</td>\n",
       "      <td>16/05875/FULL1</td>\n",
       "      <td>9.190</td>\n",
       "      <td>13</td>\n",
       "      <td>None</td>\n",
       "      <td>None</td>\n",
       "      <td>BR1 2AY</td>\n",
       "      <td>approved</td>\n",
       "      <td>...</td>\n",
       "      <td>1.404026</td>\n",
       "      <td>MULTIPOLYGON (((542796.140 168936.470, 542796....</td>\n",
       "      <td>53133601</td>\n",
       "      <td>None</td>\n",
       "      <td>53133601</td>\n",
       "      <td>POLYGON ((542775.700 168955.000, 542778.379 16...</td>\n",
       "      <td>1888.438233</td>\n",
       "      <td>NaN</td>\n",
       "      <td>None</td>\n",
       "      <td>NaN</td>\n",
       "    </tr>\n",
       "    <tr>\n",
       "      <td>3</td>\n",
       "      <td>MULTIPOLYGON (((542794.969 168934.316, 542805....</td>\n",
       "      <td>253.683995</td>\n",
       "      <td>3</td>\n",
       "      <td>16/03597/FULL1</td>\n",
       "      <td>9.730</td>\n",
       "      <td>13</td>\n",
       "      <td>None</td>\n",
       "      <td>None</td>\n",
       "      <td>BR1 2AY</td>\n",
       "      <td>refused</td>\n",
       "      <td>...</td>\n",
       "      <td>1.424762</td>\n",
       "      <td>MULTIPOLYGON (((542795.097 168935.066, 542795....</td>\n",
       "      <td>53133601</td>\n",
       "      <td>None</td>\n",
       "      <td>53133601</td>\n",
       "      <td>POLYGON ((542775.700 168955.000, 542778.379 16...</td>\n",
       "      <td>1888.438233</td>\n",
       "      <td>NaN</td>\n",
       "      <td>None</td>\n",
       "      <td>NaN</td>\n",
       "    </tr>\n",
       "    <tr>\n",
       "      <td>4</td>\n",
       "      <td>MULTIPOLYGON (((542957.083 169031.454, 542968....</td>\n",
       "      <td>210.317871</td>\n",
       "      <td>4</td>\n",
       "      <td>15/04152/FULL1</td>\n",
       "      <td>9.710</td>\n",
       "      <td>9</td>\n",
       "      <td>None</td>\n",
       "      <td>None</td>\n",
       "      <td>BR1 2BE</td>\n",
       "      <td>appeal_allowed</td>\n",
       "      <td>...</td>\n",
       "      <td>1.546066</td>\n",
       "      <td>MULTIPOLYGON (((542963.861 169032.317, 542959....</td>\n",
       "      <td>59732233</td>\n",
       "      <td>None</td>\n",
       "      <td>59732233</td>\n",
       "      <td>POLYGON ((542960.550 168994.950, 542963.180 16...</td>\n",
       "      <td>1688.505556</td>\n",
       "      <td>NaN</td>\n",
       "      <td>None</td>\n",
       "      <td>NaN</td>\n",
       "    </tr>\n",
       "    <tr>\n",
       "      <td>...</td>\n",
       "      <td>...</td>\n",
       "      <td>...</td>\n",
       "      <td>...</td>\n",
       "      <td>...</td>\n",
       "      <td>...</td>\n",
       "      <td>...</td>\n",
       "      <td>...</td>\n",
       "      <td>...</td>\n",
       "      <td>...</td>\n",
       "      <td>...</td>\n",
       "      <td>...</td>\n",
       "      <td>...</td>\n",
       "      <td>...</td>\n",
       "      <td>...</td>\n",
       "      <td>...</td>\n",
       "      <td>...</td>\n",
       "      <td>...</td>\n",
       "      <td>...</td>\n",
       "      <td>...</td>\n",
       "      <td>...</td>\n",
       "      <td>...</td>\n",
       "    </tr>\n",
       "    <tr>\n",
       "      <td>147</td>\n",
       "      <td>MULTIPOLYGON (((534824.950 171036.100, 534831....</td>\n",
       "      <td>82.637500</td>\n",
       "      <td>108</td>\n",
       "      <td>18/01228/FULL1</td>\n",
       "      <td>9.000</td>\n",
       "      <td>5</td>\n",
       "      <td>False</td>\n",
       "      <td>None</td>\n",
       "      <td>SE26 6UG</td>\n",
       "      <td>approved</td>\n",
       "      <td>...</td>\n",
       "      <td>2.315400</td>\n",
       "      <td>MULTIPOLYGON (((534828.450 171040.462, 534835....</td>\n",
       "      <td>37950806</td>\n",
       "      <td>None</td>\n",
       "      <td>37950806</td>\n",
       "      <td>POLYGON ((534825.300 171018.700, 534825.850 17...</td>\n",
       "      <td>667.183125</td>\n",
       "      <td>NaN</td>\n",
       "      <td>None</td>\n",
       "      <td>NaN</td>\n",
       "    </tr>\n",
       "    <tr>\n",
       "      <td>148</td>\n",
       "      <td>MULTIPOLYGON (((534824.950 171036.100, 534831....</td>\n",
       "      <td>82.637500</td>\n",
       "      <td>109</td>\n",
       "      <td>17/05106/FULL1</td>\n",
       "      <td>9.000</td>\n",
       "      <td>5</td>\n",
       "      <td>False</td>\n",
       "      <td>None</td>\n",
       "      <td>SE26 6UG</td>\n",
       "      <td>refused</td>\n",
       "      <td>...</td>\n",
       "      <td>2.745931</td>\n",
       "      <td>MULTIPOLYGON (((534828.044 171040.741, 534839....</td>\n",
       "      <td>37950806</td>\n",
       "      <td>None</td>\n",
       "      <td>37950806</td>\n",
       "      <td>POLYGON ((534825.300 171018.700, 534825.850 17...</td>\n",
       "      <td>667.183125</td>\n",
       "      <td>NaN</td>\n",
       "      <td>None</td>\n",
       "      <td>NaN</td>\n",
       "    </tr>\n",
       "    <tr>\n",
       "      <td>149</td>\n",
       "      <td>MULTIPOLYGON (((534824.950 171036.100, 534831....</td>\n",
       "      <td>82.637500</td>\n",
       "      <td>110</td>\n",
       "      <td>17/01181/FULL1</td>\n",
       "      <td>12.000</td>\n",
       "      <td>4</td>\n",
       "      <td>False</td>\n",
       "      <td>None</td>\n",
       "      <td>SE26 6UG</td>\n",
       "      <td>refused</td>\n",
       "      <td>...</td>\n",
       "      <td>3.140336</td>\n",
       "      <td>MULTIPOLYGON (((534825.135 171035.399, 534837....</td>\n",
       "      <td>37950806</td>\n",
       "      <td>None</td>\n",
       "      <td>37950806</td>\n",
       "      <td>POLYGON ((534825.300 171018.700, 534825.850 17...</td>\n",
       "      <td>667.183125</td>\n",
       "      <td>NaN</td>\n",
       "      <td>None</td>\n",
       "      <td>NaN</td>\n",
       "    </tr>\n",
       "    <tr>\n",
       "      <td>150</td>\n",
       "      <td>MULTIPOLYGON (((534786.964 171095.829, 534792....</td>\n",
       "      <td>135.473667</td>\n",
       "      <td>111</td>\n",
       "      <td>17/02629/FULL1</td>\n",
       "      <td>7.490</td>\n",
       "      <td>3</td>\n",
       "      <td>False</td>\n",
       "      <td>None</td>\n",
       "      <td>SE26 6UH</td>\n",
       "      <td>appeal_dismissed</td>\n",
       "      <td>...</td>\n",
       "      <td>1.799111</td>\n",
       "      <td>MULTIPOLYGON (((534773.969 171102.707, 534776....</td>\n",
       "      <td>37935591</td>\n",
       "      <td>None</td>\n",
       "      <td>37935591</td>\n",
       "      <td>POLYGON ((534782.949 171087.850, 534787.000 17...</td>\n",
       "      <td>715.387425</td>\n",
       "      <td>NaN</td>\n",
       "      <td>None</td>\n",
       "      <td>NaN</td>\n",
       "    </tr>\n",
       "    <tr>\n",
       "      <td>151</td>\n",
       "      <td>MULTIPOLYGON (((534786.964 171095.829, 534792....</td>\n",
       "      <td>135.473667</td>\n",
       "      <td>112</td>\n",
       "      <td>17/00858/FULL1</td>\n",
       "      <td>8.160</td>\n",
       "      <td>4</td>\n",
       "      <td>False</td>\n",
       "      <td>None</td>\n",
       "      <td>SE26 6UH</td>\n",
       "      <td>appeal_dismissed</td>\n",
       "      <td>...</td>\n",
       "      <td>1.976638</td>\n",
       "      <td>MULTIPOLYGON (((534774.177 171103.103, 534777....</td>\n",
       "      <td>37935591</td>\n",
       "      <td>None</td>\n",
       "      <td>37935591</td>\n",
       "      <td>POLYGON ((534782.949 171087.850, 534787.000 17...</td>\n",
       "      <td>715.387425</td>\n",
       "      <td>NaN</td>\n",
       "      <td>None</td>\n",
       "      <td>NaN</td>\n",
       "    </tr>\n",
       "  </tbody>\n",
       "</table>\n",
       "<p>152 rows × 38 columns</p>\n",
       "</div>"
      ],
      "text/plain": [
       "                                         geom_original       area2  \\\n",
       "0    MULTIPOLYGON (((543130.000 169379.300, 543138....  222.100950   \n",
       "1    MULTIPOLYGON (((542476.420 168909.280, 542472....  179.004183   \n",
       "2    MULTIPOLYGON (((542794.969 168934.316, 542805....  253.683995   \n",
       "3    MULTIPOLYGON (((542794.969 168934.316, 542805....  253.683995   \n",
       "4    MULTIPOLYGON (((542957.083 169031.454, 542968....  210.317871   \n",
       "..                                                 ...         ...   \n",
       "147  MULTIPOLYGON (((534824.950 171036.100, 534831....   82.637500   \n",
       "148  MULTIPOLYGON (((534824.950 171036.100, 534831....   82.637500   \n",
       "149  MULTIPOLYGON (((534824.950 171036.100, 534831....   82.637500   \n",
       "150  MULTIPOLYGON (((534786.964 171095.829, 534792....  135.473667   \n",
       "151  MULTIPOLYGON (((534786.964 171095.829, 534792....  135.473667   \n",
       "\n",
       "     index_right planning_application  max_height  parking_spaces  \\\n",
       "0              0         18/04199/OUT         NaN              11   \n",
       "1              1       16/04099/FULL1       8.802               8   \n",
       "2              2       16/05875/FULL1       9.190              13   \n",
       "3              3       16/03597/FULL1       9.730              13   \n",
       "4              4       15/04152/FULL1       9.710               9   \n",
       "..           ...                  ...         ...             ...   \n",
       "147          108       18/01228/FULL1       9.000               5   \n",
       "148          109       17/05106/FULL1       9.000               5   \n",
       "149          110       17/01181/FULL1      12.000               4   \n",
       "150          111       17/02629/FULL1       7.490               3   \n",
       "151          112       17/00858/FULL1       8.160               4   \n",
       "\n",
       "    has_underground_parking on_highstreet  postcode            status  ...  \\\n",
       "0                     False         False   BR1 2AP          approved  ...   \n",
       "1                      None         False   BR1 2AT  appeal_dismissed  ...   \n",
       "2                      None          None   BR1 2AY          approved  ...   \n",
       "3                      None          None   BR1 2AY           refused  ...   \n",
       "4                      None          None   BR1 2BE    appeal_allowed  ...   \n",
       "..                      ...           ...       ...               ...  ...   \n",
       "147                   False          None  SE26 6UG          approved  ...   \n",
       "148                   False          None  SE26 6UG           refused  ...   \n",
       "149                   False          None  SE26 6UG           refused  ...   \n",
       "150                   False          None  SE26 6UH  appeal_dismissed  ...   \n",
       "151                   False          None  SE26 6UH  appeal_dismissed  ...   \n",
       "\n",
       "    area1/area2                                      geom_proposed inspire_1  \\\n",
       "0      1.412981  MULTIPOLYGON (((543120.791 169400.554, 543120....  40879904   \n",
       "1      1.778004  MULTIPOLYGON (((542465.938 168905.990, 542467....  39022637   \n",
       "2      1.404026  MULTIPOLYGON (((542796.140 168936.470, 542796....  53133601   \n",
       "3      1.424762  MULTIPOLYGON (((542795.097 168935.066, 542795....  53133601   \n",
       "4      1.546066  MULTIPOLYGON (((542963.861 169032.317, 542959....  59732233   \n",
       "..          ...                                                ...       ...   \n",
       "147    2.315400  MULTIPOLYGON (((534828.450 171040.462, 534835....  37950806   \n",
       "148    2.745931  MULTIPOLYGON (((534828.044 171040.741, 534839....  37950806   \n",
       "149    3.140336  MULTIPOLYGON (((534825.135 171035.399, 534837....  37950806   \n",
       "150    1.799111  MULTIPOLYGON (((534773.969 171102.707, 534776....  37935591   \n",
       "151    1.976638  MULTIPOLYGON (((534774.177 171103.103, 534777....  37935591   \n",
       "\n",
       "    inspire_2 INSPIREID_x                                     geometry_land1  \\\n",
       "0        None    40879904  POLYGON ((543101.530 169375.566, 543101.844 16...   \n",
       "1        None    39022637  POLYGON ((542462.650 168918.750, 542464.250 16...   \n",
       "2        None    53133601  POLYGON ((542775.700 168955.000, 542778.379 16...   \n",
       "3        None    53133601  POLYGON ((542775.700 168955.000, 542778.379 16...   \n",
       "4        None    59732233  POLYGON ((542960.550 168994.950, 542963.180 16...   \n",
       "..        ...         ...                                                ...   \n",
       "147      None    37950806  POLYGON ((534825.300 171018.700, 534825.850 17...   \n",
       "148      None    37950806  POLYGON ((534825.300 171018.700, 534825.850 17...   \n",
       "149      None    37950806  POLYGON ((534825.300 171018.700, 534825.850 17...   \n",
       "150      None    37935591  POLYGON ((534782.949 171087.850, 534787.000 17...   \n",
       "151      None    37935591  POLYGON ((534782.949 171087.850, 534787.000 17...   \n",
       "\n",
       "     land_area_x INSPIREID_y geometry_land2 land_area_y  \n",
       "0    2624.275593         NaN           None         NaN  \n",
       "1    1616.181000         NaN           None         NaN  \n",
       "2    1888.438233         NaN           None         NaN  \n",
       "3    1888.438233         NaN           None         NaN  \n",
       "4    1688.505556         NaN           None         NaN  \n",
       "..           ...         ...            ...         ...  \n",
       "147   667.183125         NaN           None         NaN  \n",
       "148   667.183125         NaN           None         NaN  \n",
       "149   667.183125         NaN           None         NaN  \n",
       "150   715.387425         NaN           None         NaN  \n",
       "151   715.387425         NaN           None         NaN  \n",
       "\n",
       "[152 rows x 38 columns]"
      ]
     },
     "execution_count": 614,
     "metadata": {},
     "output_type": "execute_result"
    }
   ],
   "source": [
    "df_joined_land2#.columns#[['geom_original','geom_proposed','geometry', 'geometry_y']]"
   ]
  },
  {
   "cell_type": "code",
   "execution_count": 732,
   "metadata": {},
   "outputs": [],
   "source": [
    "df_joined_land2['total_geometry']=df_joined_land2[['geometry_land1','geometry_land2']].apply(lambda x:x['geometry_land1'] if pd.isnull(x['geometry_land2'])\n",
    "                                                                                              else x['geometry_land2'], axis=1  )\n",
    "# df_joined_land2.loc[0,'geometry_land1'].union(df_joined_land2.loc[0,'geometry_land2'])"
   ]
  },
  {
   "cell_type": "code",
   "execution_count": 733,
   "metadata": {},
   "outputs": [],
   "source": [
    "df_joined_land2['total_land_area']=df_joined_land2['land_area_x']+df_joined_land2['land_area_y'].fillna(0)                                                                                                                             "
   ]
  },
  {
   "cell_type": "code",
   "execution_count": 734,
   "metadata": {},
   "outputs": [
    {
     "data": {
      "text/plain": [
       "(array([88., 45., 15.,  0.,  0.,  0.,  0.,  0.,  0.,  4.]),\n",
       " array([  188.0725   ,  1391.1534504,  2594.2344008,  3797.3153512,\n",
       "         5000.3963016,  6203.477252 ,  7406.5582024,  8609.6391528,\n",
       "         9812.7201032, 11015.8010536, 12218.882004 ]),\n",
       " <a list of 10 Patch objects>)"
      ]
     },
     "execution_count": 734,
     "metadata": {},
     "output_type": "execute_result"
    },
    {
     "data": {
      "image/png": "[encoded data removed]",
      "text/plain": [
       "<Figure size 432x288 with 1 Axes>"
      ]
     },
     "metadata": {
      "needs_background": "light"
     },
     "output_type": "display_data"
    }
   ],
   "source": [
    "plt.hist(df_joined_land2['total_land_area'])"
   ]
  },
  {
   "cell_type": "code",
   "execution_count": 735,
   "metadata": {},
   "outputs": [
    {
     "data": {
      "text/plain": [
       "(array([71., 46., 21.,  4.,  1.,  5.,  2.,  0.,  1.,  1.]),\n",
       " array([0.00152457, 0.08881334, 0.1761021 , 0.26339087, 0.35067963,\n",
       "        0.4379684 , 0.52525716, 0.61254593, 0.69983469, 0.78712346,\n",
       "        0.87441222]),\n",
       " <a list of 10 Patch objects>)"
      ]
     },
     "execution_count": 735,
     "metadata": {},
     "output_type": "execute_result"
    },
    {
     "data": {
      "image/png": "[encoded data removed]",
      "text/plain": [
       "<Figure size 432x288 with 1 Axes>"
      ]
     },
     "metadata": {
      "needs_background": "light"
     },
     "output_type": "display_data"
    }
   ],
   "source": [
    "plt.hist(df_joined_land2['area2']/df_joined_land2['total_land_area'])"
   ]
  },
  {
   "cell_type": "code",
   "execution_count": 736,
   "metadata": {},
   "outputs": [],
   "source": [
    "df_joined_land2['ratio_proposed_land']=df_joined_land2['area1']/df_joined_land2['total_land_area']"
   ]
  },
  {
   "cell_type": "code",
   "execution_count": 737,
   "metadata": {},
   "outputs": [],
   "source": [
    "df_joined_land2.rename(columns={'area1/area2':'ratio_proposed_original'}, inplace=True)"
   ]
  },
  {
   "cell_type": "markdown",
   "metadata": {},
   "source": [
    "### Processing of neighbors height"
   ]
  },
  {
   "cell_type": "code",
   "execution_count": 738,
   "metadata": {},
   "outputs": [],
   "source": [
    "df_height=gpd.read_file(r'C:\\Users\\Intra24\\Desktop\\Glasgow_uni\\Group_project\\height2017\\height2017\\bromley_neighbour.shp')"
   ]
  },
  {
   "cell_type": "code",
   "execution_count": 739,
   "metadata": {},
   "outputs": [
    {
     "data": {
      "text/plain": [
       "Index(['geom_original', 'area2', 'index_right', 'planning_application',\n",
       "       'max_height', 'parking_spaces', 'has_underground_parking',\n",
       "       'on_highstreet', 'postcode', 'status', 'address', 'town', 'inspire_ids',\n",
       "       'on_corner', 'rejected_size', 'rejected_neighbour_effect',\n",
       "       'rejected_living_conditions', 'rejected_parking',\n",
       "       'rejected_local_character', 'units', 'one_bed_units', 'two_bed_units',\n",
       "       'three_bed_units', 'four_plus_bed_units', 'studio_units', 'three_more',\n",
       "       'two_more', 'area1', 'ratio_proposed_original', 'geom_proposed',\n",
       "       'inspire_1', 'inspire_2', 'INSPIREID_x', 'geometry_land1',\n",
       "       'land_area_x', 'INSPIREID_y', 'geometry_land2', 'land_area_y',\n",
       "       'total_geometry', 'total_land_area', 'ratio_proposed_land'],\n",
       "      dtype='object')"
      ]
     },
     "execution_count": 739,
     "metadata": {},
     "output_type": "execute_result"
    }
   ],
   "source": [
    "df_joined_land2.columns"
   ]
  },
  {
   "cell_type": "code",
   "execution_count": 740,
   "metadata": {},
   "outputs": [],
   "source": [
    "df_joined_land2.drop(['land_area_x','geometry_land2','land_area_y'], axis=1, inplace=True)"
   ]
  },
  {
   "cell_type": "code",
   "execution_count": 741,
   "metadata": {},
   "outputs": [
    {
     "data": {
      "text/plain": [
       "Index(['geom_original', 'area2', 'index_right', 'planning_application',\n",
       "       'max_height', 'parking_spaces', 'has_underground_parking',\n",
       "       'on_highstreet', 'postcode', 'status', 'address', 'town', 'inspire_ids',\n",
       "       'on_corner', 'rejected_size', 'rejected_neighbour_effect',\n",
       "       'rejected_living_conditions', 'rejected_parking',\n",
       "       'rejected_local_character', 'units', 'one_bed_units', 'two_bed_units',\n",
       "       'three_bed_units', 'four_plus_bed_units', 'studio_units', 'three_more',\n",
       "       'two_more', 'area1', 'ratio_proposed_original', 'geom_proposed',\n",
       "       'inspire_1', 'inspire_2', 'INSPIREID_x', 'geometry_land1',\n",
       "       'INSPIREID_y', 'total_geometry', 'total_land_area',\n",
       "       'ratio_proposed_land', 'FID_Bromle', 'OBJECTID', 'os_topo_to',\n",
       "       'os_topo_ve', 'bha_proces', 'tileref', 'abshmin', 'absh2', 'abshmax',\n",
       "       'relh2', 'relhmax', 'bha_conf', 'Shape_Leng', 'Shape_Le_1',\n",
       "       'Shape_Area', 'FID_brom_1', 'fid_', 'planning_a', 'BUFF_DIST',\n",
       "       'ORIG_FID', 'geometry'],\n",
       "      dtype='object')"
      ]
     },
     "execution_count": 741,
     "metadata": {},
     "output_type": "execute_result"
    }
   ],
   "source": [
    "cols_height=['FID_Bromle', 'OBJECTID', 'os_topo_to', 'os_topo_ve', 'bha_proces',\n",
    "       'tileref', 'abshmin', 'absh2', 'abshmax', 'relh2', 'relhmax',\n",
    "       'bha_conf', 'Shape_Leng', 'Shape_Le_1', 'Shape_Area', 'FID_brom_1',\n",
    "       'fid_', 'planning_a', 'BUFF_DIST', 'ORIG_FID', 'geometry']\n",
    "df_wth_height=df_joined_land2.merge(df_height[cols_height],left_on ='planning_application', right_on='planning_a',how='left')\n",
    "df_wth_height.columns"
   ]
  },
  {
   "cell_type": "code",
   "execution_count": 742,
   "metadata": {},
   "outputs": [],
   "source": [
    "df_wth_height=gpd.GeoDataFrame(df_wth_height, geometry='geometry', crs={'epsg':'27700'})"
   ]
  },
  {
   "cell_type": "code",
   "execution_count": 743,
   "metadata": {},
   "outputs": [
    {
     "data": {
      "text/plain": [
       "<matplotlib.axes._subplots.AxesSubplot at 0x2a194a16808>"
      ]
     },
     "execution_count": 743,
     "metadata": {},
     "output_type": "execute_result"
    },
    {
     "data": {
      "image/png": "[encoded data removed]",
      "text/plain": [
       "<Figure size 432x288 with 1 Axes>"
      ]
     },
     "metadata": {
      "needs_background": "light"
     },
     "output_type": "display_data"
    }
   ],
   "source": [
    "# Histogram of number of building with square more than 50. We check that for every application there is at least a one building with bigger area\n",
    "df_wth_height.groupby('planning_a')['Shape_Area'].apply(lambda x: sum(x>50)).plot(kind='hist')"
   ]
  },
  {
   "cell_type": "code",
   "execution_count": 744,
   "metadata": {},
   "outputs": [
    {
     "name": "stderr",
     "output_type": "stream",
     "text": [
      "C:\\Users\\Intra24\\Anaconda3\\lib\\site-packages\\ipykernel_launcher.py:3: FutureWarning: \n",
      ".ix is deprecated. Please use\n",
      ".loc for label based indexing or\n",
      ".iloc for positional indexing\n",
      "\n",
      "See the documentation here:\n",
      "http://pandas.pydata.org/pandas-docs/stable/user_guide/indexing.html#ix-indexer-is-deprecated\n",
      "  This is separate from the ipykernel package so we can avoid doing imports until\n"
     ]
    }
   ],
   "source": [
    "# Identifications of the building's area among  its neighbors\n",
    "for  ind,row in df_wth_height.iterrows():\n",
    "    df_wth_height.ix[ind,'flag_same']=(row['total_geometry'].intersects(row['geometry']))"
   ]
  },
  {
   "cell_type": "code",
   "execution_count": 637,
   "metadata": {
    "scrolled": false
   },
   "outputs": [
    {
     "data": {
      "text/plain": [
       "2.0     33\n",
       "3.0     13\n",
       "4.0     12\n",
       "1.0     11\n",
       "8.0      4\n",
       "6.0      4\n",
       "18.0     3\n",
       "20.0     3\n",
       "10.0     3\n",
       "0.0      3\n",
       "9.0      3\n",
       "40.0     2\n",
       "15.0     2\n",
       "30.0     2\n",
       "5.0      1\n",
       "12.0     1\n",
       "11.0     1\n",
       "36.0     1\n",
       "Name: flag_same, dtype: int64"
      ]
     },
     "execution_count": 637,
     "metadata": {},
     "output_type": "execute_result"
    }
   ],
   "source": [
    "df_wth_height.groupby('planning_a')['flag_same'].sum().value_counts()"
   ]
  },
  {
   "cell_type": "code",
   "execution_count": 745,
   "metadata": {},
   "outputs": [
    {
     "data": {
      "text/plain": [
       "113"
      ]
     },
     "execution_count": 745,
     "metadata": {},
     "output_type": "execute_result"
    }
   ],
   "source": [
    "df_height['planning_a'].nunique()"
   ]
  },
  {
   "cell_type": "code",
   "execution_count": 746,
   "metadata": {
    "scrolled": true
   },
   "outputs": [],
   "source": [
    "df_only_neigbors=df_wth_height[df_wth_height['flag_same']==False]"
   ]
  },
  {
   "cell_type": "code",
   "execution_count": 747,
   "metadata": {
    "scrolled": true
   },
   "outputs": [
    {
     "data": {
      "text/plain": [
       "Index(['geom_original', 'area2', 'index_right', 'planning_application',\n",
       "       'max_height', 'parking_spaces', 'has_underground_parking',\n",
       "       'on_highstreet', 'postcode', 'status', 'address', 'town', 'inspire_ids',\n",
       "       'on_corner', 'rejected_size', 'rejected_neighbour_effect',\n",
       "       'rejected_living_conditions', 'rejected_parking',\n",
       "       'rejected_local_character', 'units', 'one_bed_units', 'two_bed_units',\n",
       "       'three_bed_units', 'four_plus_bed_units', 'studio_units', 'three_more',\n",
       "       'two_more', 'area1', 'ratio_proposed_original', 'geom_proposed',\n",
       "       'inspire_1', 'inspire_2', 'INSPIREID_x', 'geometry_land1',\n",
       "       'INSPIREID_y', 'total_geometry', 'total_land_area',\n",
       "       'ratio_proposed_land', 'FID_Bromle', 'OBJECTID', 'os_topo_to',\n",
       "       'os_topo_ve', 'bha_proces', 'tileref', 'abshmin', 'absh2', 'abshmax',\n",
       "       'relh2', 'relhmax', 'bha_conf', 'Shape_Leng', 'Shape_Le_1',\n",
       "       'Shape_Area', 'FID_brom_1', 'fid_', 'planning_a', 'BUFF_DIST',\n",
       "       'ORIG_FID', 'geometry', 'flag_same'],\n",
       "      dtype='object')"
      ]
     },
     "execution_count": 747,
     "metadata": {},
     "output_type": "execute_result"
    }
   ],
   "source": [
    "df_only_neigbors.columns"
   ]
  },
  {
   "cell_type": "code",
   "execution_count": 748,
   "metadata": {},
   "outputs": [
    {
     "name": "stderr",
     "output_type": "stream",
     "text": [
      "C:\\Users\\Intra24\\Anaconda3\\lib\\site-packages\\ipykernel_launcher.py:1: SettingWithCopyWarning: \n",
      "A value is trying to be set on a copy of a slice from a DataFrame.\n",
      "Try using .loc[row_indexer,col_indexer] = value instead\n",
      "\n",
      "See the caveats in the documentation: http://pandas.pydata.org/pandas-docs/stable/user_guide/indexing.html#returning-a-view-versus-a-copy\n",
      "  \"\"\"Entry point for launching an IPython kernel.\n"
     ]
    }
   ],
   "source": [
    "df_only_neigbors['neigb_maxh']=df_only_neigbors.groupby('planning_application')['relhmax'].transform('max')"
   ]
  },
  {
   "cell_type": "code",
   "execution_count": 634,
   "metadata": {},
   "outputs": [
    {
     "data": {
      "text/plain": [
       "(array([ 309., 1699.,  887.,  526.,  371.,  114.,   36.,   83.,   32.,\n",
       "         115.]), array([ 88.24199777, 167.58502697, 246.92805616, 326.27108535,\n",
       "        405.61411455, 484.95714374, 564.30017293, 643.64320213,\n",
       "        722.98623132, 802.32926051, 881.67228971]), <a list of 10 Patch objects>)"
      ]
     },
     "execution_count": 634,
     "metadata": {},
     "output_type": "execute_result"
    },
    {
     "data": {
      "image/png": "[encoded data removed]",
      "text/plain": [
       "<Figure size 432x288 with 1 Axes>"
      ]
     },
     "metadata": {
      "needs_background": "light"
     },
     "output_type": "display_data"
    }
   ],
   "source": [
    "plt.hist(df_only_neigbors['area1'])"
   ]
  },
  {
   "cell_type": "code",
   "execution_count": 749,
   "metadata": {},
   "outputs": [],
   "source": [
    "# We calculate median only considering buildings whose area is bigger then 80% of min value of proposed buildings.\n",
    "# By doing so we tend to remove small constructions\n",
    "min_shape_area=df_only_neigbors['area1'].min()*0.8"
   ]
  },
  {
   "cell_type": "code",
   "execution_count": 50,
   "metadata": {},
   "outputs": [],
   "source": [
    "# ss=StandardScaler()\n",
    "\n",
    "# df_bed=pd.DataFrame(ss.fit_transform(df_bed.values), columns=df_bed.columns)"
   ]
  },
  {
   "cell_type": "code",
   "execution_count": 750,
   "metadata": {},
   "outputs": [
    {
     "data": {
      "text/plain": [
       "planning_application\n",
       "10/02964/FULL1    13.80\n",
       "12/02049/OUT      12.15\n",
       "13/02693/FULL1     8.30\n",
       "13/03044/FULL1     9.50\n",
       "13/04067/FULL1    12.05\n",
       "                  ...  \n",
       "19/01502/OUT       9.50\n",
       "19/01537/FULL1    10.70\n",
       "19/01805/FULL1     8.80\n",
       "19/02756/FULL1    10.10\n",
       "19/03508/FULL1    15.50\n",
       "Name: relhmax, Length: 102, dtype: float64"
      ]
     },
     "execution_count": 750,
     "metadata": {},
     "output_type": "execute_result"
    }
   ],
   "source": [
    "df_only_neigbors[df_only_neigbors['Shape_Area']>min_shape_area].groupby('planning_application')['relhmax'].median()"
   ]
  },
  {
   "cell_type": "code",
   "execution_count": 751,
   "metadata": {},
   "outputs": [
    {
     "name": "stderr",
     "output_type": "stream",
     "text": [
      "C:\\Users\\Intra24\\Anaconda3\\lib\\site-packages\\ipykernel_launcher.py:1: FutureWarning: using a dict on a Series for aggregation\n",
      "is deprecated and will be removed in a future version. Use                 named aggregation instead.\n",
      "\n",
      "    >>> grouper.agg(name_1=func_1, name_2=func_2)\n",
      "\n",
      "  \"\"\"Entry point for launching an IPython kernel.\n"
     ]
    }
   ],
   "source": [
    "df_only_neigbors1=df_only_neigbors.set_index('planning_application').join(df_only_neigbors[df_only_neigbors['Shape_Area']>min_shape_area].groupby('planning_application')['relhmax'].agg({'neighbor_med':'median'}))"
   ]
  },
  {
   "cell_type": "code",
   "execution_count": 752,
   "metadata": {},
   "outputs": [],
   "source": [
    "fin_cols=[ 'area2',  'max_height', 'parking_spaces',\n",
    "       'has_underground_parking', 'on_highstreet',   'units',\n",
    "       'one_bed_units', 'two_bed_units', 'three_bed_units',\n",
    "       'four_plus_bed_units', 'studio_units', 'three_more', 'two_more',\n",
    "       'area1', 'ratio_proposed_original',  'total_land_area',  'ratio_proposed_land',\n",
    "        'neigb_maxh', 'neighbor_med', 'geom_proposed', 'geom_original']\n",
    "df_fin=df_only_neigbors1[fin_cols]"
   ]
  },
  {
   "cell_type": "code",
   "execution_count": 755,
   "metadata": {},
   "outputs": [
    {
     "name": "stderr",
     "output_type": "stream",
     "text": [
      "C:\\Users\\Intra24\\Anaconda3\\lib\\site-packages\\ipykernel_launcher.py:1: SettingWithCopyWarning: \n",
      "A value is trying to be set on a copy of a slice from a DataFrame.\n",
      "Try using .loc[row_indexer,col_indexer] = value instead\n",
      "\n",
      "See the caveats in the documentation: http://pandas.pydata.org/pandas-docs/stable/user_guide/indexing.html#returning-a-view-versus-a-copy\n",
      "  \"\"\"Entry point for launching an IPython kernel.\n"
     ]
    }
   ],
   "source": [
    "df_fin['rank']=df_fin.groupby('planning_application')['ratio_proposed_land'].transform(lambda x: x.rank(method='first'))\n",
    "df_fin=df_fin[df_fin['rank']==1]"
   ]
  },
  {
   "cell_type": "code",
   "execution_count": 756,
   "metadata": {
    "scrolled": false
   },
   "outputs": [
    {
     "data": {
      "text/plain": [
       "(102, 22)"
      ]
     },
     "execution_count": 756,
     "metadata": {},
     "output_type": "execute_result"
    }
   ],
   "source": [
    "df_fin.shape"
   ]
  },
  {
   "cell_type": "code",
   "execution_count": 757,
   "metadata": {
    "scrolled": true
   },
   "outputs": [
    {
     "data": {
      "text/plain": [
       "area2                      0.000000\n",
       "max_height                 0.019608\n",
       "parking_spaces             0.000000\n",
       "has_underground_parking    0.058824\n",
       "on_highstreet              0.862745\n",
       "units                      0.000000\n",
       "one_bed_units              0.049020\n",
       "two_bed_units              0.049020\n",
       "three_bed_units            0.049020\n",
       "four_plus_bed_units        0.049020\n",
       "studio_units               0.049020\n",
       "three_more                 0.049020\n",
       "two_more                   0.049020\n",
       "area1                      0.000000\n",
       "ratio_proposed_original    0.000000\n",
       "total_land_area            0.000000\n",
       "ratio_proposed_land        0.000000\n",
       "neigb_maxh                 0.000000\n",
       "neighbor_med               0.000000\n",
       "geom_proposed              0.000000\n",
       "geom_original              0.000000\n",
       "rank                       0.000000\n",
       "dtype: float64"
      ]
     },
     "execution_count": 757,
     "metadata": {},
     "output_type": "execute_result"
    }
   ],
   "source": [
    "df_fin.isnull().mean()"
   ]
  },
  {
   "cell_type": "code",
   "execution_count": 700,
   "metadata": {},
   "outputs": [
    {
     "data": {
      "text/plain": [
       "Index(['area2', 'max_height', 'parking_spaces', 'has_underground_parking',\n",
       "       'on_highstreet', 'units', 'one_bed_units', 'two_bed_units',\n",
       "       'three_bed_units', 'four_plus_bed_units', 'studio_units', 'three_more',\n",
       "       'two_more', 'area1', 'ratio_proposed_original', 'total_land_area',\n",
       "       'ratio_proposed_land', 'neigb_maxh', 'neighbor_med', 'geom_proposed',\n",
       "       'geom_original', 'rank'],\n",
       "      dtype='object')"
      ]
     },
     "execution_count": 700,
     "metadata": {},
     "output_type": "execute_result"
    }
   ],
   "source": [
    "df_fin.columns"
   ]
  },
  {
   "cell_type": "code",
   "execution_count": 758,
   "metadata": {},
   "outputs": [],
   "source": [
    "# drop if more than 50%\n",
    "df_fin.drop(['on_highstreet'], axis=1, inplace=True)"
   ]
  },
  {
   "cell_type": "code",
   "execution_count": 759,
   "metadata": {},
   "outputs": [],
   "source": [
    "df_fin1=df_fin.drop(df_fin.isnull().sum(axis=1)[df_fin[features].isnull().mean(axis=1)>=0.4].index)\n"
   ]
  },
  {
   "cell_type": "code",
   "execution_count": 760,
   "metadata": {
    "scrolled": true
   },
   "outputs": [
    {
     "data": {
      "text/plain": [
       "area2                      0\n",
       "max_height                 1\n",
       "parking_spaces             0\n",
       "has_underground_parking    2\n",
       "units                      0\n",
       "one_bed_units              0\n",
       "two_bed_units              0\n",
       "three_bed_units            0\n",
       "four_plus_bed_units        0\n",
       "studio_units               0\n",
       "three_more                 0\n",
       "two_more                   0\n",
       "area1                      0\n",
       "ratio_proposed_original    0\n",
       "total_land_area            0\n",
       "ratio_proposed_land        0\n",
       "neigb_maxh                 0\n",
       "neighbor_med               0\n",
       "geom_proposed              0\n",
       "geom_original              0\n",
       "rank                       0\n",
       "dtype: int64"
      ]
     },
     "execution_count": 760,
     "metadata": {},
     "output_type": "execute_result"
    }
   ],
   "source": [
    "df_fin1.isnull().sum()"
   ]
  },
  {
   "cell_type": "code",
   "execution_count": 761,
   "metadata": {},
   "outputs": [],
   "source": [
    "df_fin1['max_height'].fillna(df_fin1['max_height'].mean(), inplace=True)\n",
    "\n",
    "df_fin1['has_underground_parking'].fillna(0, inplace=True)"
   ]
  },
  {
   "cell_type": "code",
   "execution_count": 685,
   "metadata": {},
   "outputs": [
    {
     "data": {
      "text/plain": [
       "Index(['area2', 'max_height', 'parking_spaces', 'has_underground_parking',\n",
       "       'on_highstreet', 'status', 'on_corner', 'rejected_size',\n",
       "       'rejected_neighbour_effect', 'rejected_living_conditions',\n",
       "       'rejected_parking', 'rejected_local_character', 'units',\n",
       "       'one_bed_units', 'two_bed_units', 'three_bed_units',\n",
       "       'four_plus_bed_units', 'studio_units', 'three_more', 'two_more',\n",
       "       'area1', 'ratio_proposed_original', 'total_land_area',\n",
       "       'ratio_proposed_land', 'neigb_maxh', 'neighbor_med', 'geom_proposed',\n",
       "       'geom_original', 'rank'],\n",
       "      dtype='object')"
      ]
     },
     "execution_count": 685,
     "metadata": {},
     "output_type": "execute_result"
    }
   ],
   "source": [
    "df_fin1.columns"
   ]
  },
  {
   "cell_type": "code",
   "execution_count": 281,
   "metadata": {},
   "outputs": [],
   "source": [
    "df_br=pd.read_csv('bromley_cleaned.csv')"
   ]
  },
  {
   "cell_type": "code",
   "execution_count": 549,
   "metadata": {},
   "outputs": [
    {
     "data": {
      "text/plain": [
       "Index(['fid_', 'planning_a', 'max_height', 'parking_sp', 'one_bed_un',\n",
       "       'two_bed_un', 'three_bed_', 'four_plus_', 'has_underg', 'studio_uni',\n",
       "       'on_highstr', 'postcode', 'status', 'address', 'town', 'inspire_id',\n",
       "       'on_corner', 'rejected_s', 'rejected_n', 'rejected_l', 'rejected_p',\n",
       "       'rejected_1', 'units', 'F_AREA', 'BUFF_DIST', 'ORIG_FID', 'geometry',\n",
       "       'parking_per_unit'],\n",
       "      dtype='object')"
      ]
     },
     "execution_count": 549,
     "metadata": {},
     "output_type": "execute_result"
    }
   ],
   "source": [
    "df_br.columns"
   ]
  },
  {
   "cell_type": "code",
   "execution_count": 762,
   "metadata": {},
   "outputs": [],
   "source": [
    "cols=[ 'planning_a', 'parking_sp', 'has_underg','parking_per_unit', 'status', \n",
    "       'on_corner', 'rejected_s', 'rejected_n', 'rejected_l', 'rejected_p',\n",
    "       'rejected_1']"
   ]
  },
  {
   "cell_type": "code",
   "execution_count": 763,
   "metadata": {
    "scrolled": true
   },
   "outputs": [],
   "source": [
    "df_fin1=df_fin1.merge(df_br[cols], how='inner', left_on='planning_application', right_on='planning_a')"
   ]
  },
  {
   "cell_type": "code",
   "execution_count": 768,
   "metadata": {},
   "outputs": [],
   "source": [
    "df_fin1=gpd.GeoDataFrame(df_fin1, geometry='geom_proposed', crs={'epsg':27700})"
   ]
  },
  {
   "cell_type": "code",
   "execution_count": 376,
   "metadata": {
    "scrolled": true
   },
   "outputs": [],
   "source": [
    "df_dens=gpd.read_file('Bromley density/Bromley density/bromley pop des.shp')"
   ]
  },
  {
   "cell_type": "code",
   "execution_count": 680,
   "metadata": {},
   "outputs": [
    {
     "data": {
      "text/html": [
       "<div>\n",
       "<style scoped>\n",
       "    .dataframe tbody tr th:only-of-type {\n",
       "        vertical-align: middle;\n",
       "    }\n",
       "\n",
       "    .dataframe tbody tr th {\n",
       "        vertical-align: top;\n",
       "    }\n",
       "\n",
       "    .dataframe thead th {\n",
       "        text-align: right;\n",
       "    }\n",
       "</style>\n",
       "<table border=\"1\" class=\"dataframe\">\n",
       "  <thead>\n",
       "    <tr style=\"text-align: right;\">\n",
       "      <th></th>\n",
       "      <th>area_code</th>\n",
       "      <th>area_name</th>\n",
       "      <th>census_geo</th>\n",
       "      <th>all_reside</th>\n",
       "      <th>area_ha</th>\n",
       "      <th>density</th>\n",
       "      <th>Shape_Leng</th>\n",
       "      <th>Shape_Area</th>\n",
       "      <th>geometry</th>\n",
       "    </tr>\n",
       "  </thead>\n",
       "  <tbody>\n",
       "    <tr>\n",
       "      <td>0</td>\n",
       "      <td>E01001602</td>\n",
       "      <td>Greenwich 031C</td>\n",
       "      <td>lsoa</td>\n",
       "      <td>1873</td>\n",
       "      <td>25.69</td>\n",
       "      <td>72.9</td>\n",
       "      <td>3929.634465</td>\n",
       "      <td>2.569693e+05</td>\n",
       "      <td>POLYGON ((543092.339 171947.292, 543084.650 17...</td>\n",
       "    </tr>\n",
       "    <tr>\n",
       "      <td>1</td>\n",
       "      <td>E01001603</td>\n",
       "      <td>Greenwich 031D</td>\n",
       "      <td>lsoa</td>\n",
       "      <td>1655</td>\n",
       "      <td>21.02</td>\n",
       "      <td>78.7</td>\n",
       "      <td>2682.461088</td>\n",
       "      <td>2.102819e+05</td>\n",
       "      <td>MULTIPOLYGON (((543473.334 171953.973, 543471....</td>\n",
       "    </tr>\n",
       "    <tr>\n",
       "      <td>2</td>\n",
       "      <td>E01000694</td>\n",
       "      <td>Bromley 007C</td>\n",
       "      <td>lsoa</td>\n",
       "      <td>1627</td>\n",
       "      <td>100.87</td>\n",
       "      <td>16.1</td>\n",
       "      <td>5306.785792</td>\n",
       "      <td>1.008685e+06</td>\n",
       "      <td>MULTIPOLYGON (((542838.021 170319.714, 542831....</td>\n",
       "    </tr>\n",
       "    <tr>\n",
       "      <td>3</td>\n",
       "      <td>E01000781</td>\n",
       "      <td>Bromley 001C</td>\n",
       "      <td>lsoa</td>\n",
       "      <td>1445</td>\n",
       "      <td>17.20</td>\n",
       "      <td>84.0</td>\n",
       "      <td>2348.875176</td>\n",
       "      <td>1.720140e+05</td>\n",
       "      <td>POLYGON ((542526.624 172297.874, 542525.500 17...</td>\n",
       "    </tr>\n",
       "    <tr>\n",
       "      <td>4</td>\n",
       "      <td>E01000782</td>\n",
       "      <td>Bromley 001D</td>\n",
       "      <td>lsoa</td>\n",
       "      <td>1441</td>\n",
       "      <td>28.35</td>\n",
       "      <td>50.8</td>\n",
       "      <td>3309.046906</td>\n",
       "      <td>2.834255e+05</td>\n",
       "      <td>POLYGON ((542056.334 172233.608, 542056.350 17...</td>\n",
       "    </tr>\n",
       "  </tbody>\n",
       "</table>\n",
       "</div>"
      ],
      "text/plain": [
       "   area_code       area_name census_geo  all_reside  area_ha  density  \\\n",
       "0  E01001602  Greenwich 031C       lsoa        1873    25.69     72.9   \n",
       "1  E01001603  Greenwich 031D       lsoa        1655    21.02     78.7   \n",
       "2  E01000694    Bromley 007C       lsoa        1627   100.87     16.1   \n",
       "3  E01000781    Bromley 001C       lsoa        1445    17.20     84.0   \n",
       "4  E01000782    Bromley 001D       lsoa        1441    28.35     50.8   \n",
       "\n",
       "    Shape_Leng    Shape_Area  \\\n",
       "0  3929.634465  2.569693e+05   \n",
       "1  2682.461088  2.102819e+05   \n",
       "2  5306.785792  1.008685e+06   \n",
       "3  2348.875176  1.720140e+05   \n",
       "4  3309.046906  2.834255e+05   \n",
       "\n",
       "                                            geometry  \n",
       "0  POLYGON ((543092.339 171947.292, 543084.650 17...  \n",
       "1  MULTIPOLYGON (((543473.334 171953.973, 543471....  \n",
       "2  MULTIPOLYGON (((542838.021 170319.714, 542831....  \n",
       "3  POLYGON ((542526.624 172297.874, 542525.500 17...  \n",
       "4  POLYGON ((542056.334 172233.608, 542056.350 17...  "
      ]
     },
     "execution_count": 680,
     "metadata": {},
     "output_type": "execute_result"
    }
   ],
   "source": [
    "df_dens.head()"
   ]
  },
  {
   "cell_type": "code",
   "execution_count": 769,
   "metadata": {},
   "outputs": [
    {
     "name": "stderr",
     "output_type": "stream",
     "text": [
      "C:\\Users\\Intra24\\Anaconda3\\lib\\site-packages\\geopandas\\tools\\sjoin.py:61: UserWarning: CRS of frames being joined does not match!({'epsg': 27700} != {'init': 'epsg:27700'})\n",
      "  \"(%s != %s)\" % (left_df.crs, right_df.crs)\n",
      "C:\\Users\\Intra24\\Anaconda3\\lib\\site-packages\\numpy\\lib\\function_base.py:2167: RuntimeWarning: invalid value encountered in ? (vectorized)\n",
      "  outputs = ufunc(*inputs)\n"
     ]
    }
   ],
   "source": [
    "df_dens1=gpd.sjoin(left_df=df_fin1, right_df=df_dens, op='within')"
   ]
  },
  {
   "cell_type": "code",
   "execution_count": 770,
   "metadata": {},
   "outputs": [
    {
     "data": {
      "text/plain": [
       "Index(['area2', 'max_height', 'parking_spaces', 'has_underground_parking',\n",
       "       'units', 'one_bed_units', 'two_bed_units', 'three_bed_units',\n",
       "       'four_plus_bed_units', 'studio_units', 'three_more', 'two_more',\n",
       "       'area1', 'ratio_proposed_original', 'total_land_area',\n",
       "       'ratio_proposed_land', 'neigb_maxh', 'neighbor_med', 'geom_proposed',\n",
       "       'geom_original', 'rank', 'planning_a', 'parking_sp', 'has_underg',\n",
       "       'parking_per_unit', 'status', 'on_corner', 'rejected_s', 'rejected_n',\n",
       "       'rejected_l', 'rejected_p', 'rejected_1', 'index_right', 'area_code',\n",
       "       'area_name', 'census_geo', 'all_reside', 'area_ha', 'density',\n",
       "       'Shape_Leng', 'Shape_Area'],\n",
       "      dtype='object')"
      ]
     },
     "execution_count": 770,
     "metadata": {},
     "output_type": "execute_result"
    }
   ],
   "source": [
    "df_dens1.columns"
   ]
  },
  {
   "cell_type": "code",
   "execution_count": 771,
   "metadata": {
    "scrolled": true
   },
   "outputs": [
    {
     "data": {
      "text/html": [
       "<div>\n",
       "<style scoped>\n",
       "    .dataframe tbody tr th:only-of-type {\n",
       "        vertical-align: middle;\n",
       "    }\n",
       "\n",
       "    .dataframe tbody tr th {\n",
       "        vertical-align: top;\n",
       "    }\n",
       "\n",
       "    .dataframe thead th {\n",
       "        text-align: right;\n",
       "    }\n",
       "</style>\n",
       "<table border=\"1\" class=\"dataframe\">\n",
       "  <thead>\n",
       "    <tr style=\"text-align: right;\">\n",
       "      <th></th>\n",
       "      <th>area2</th>\n",
       "      <th>max_height</th>\n",
       "      <th>parking_spaces</th>\n",
       "      <th>has_underground_parking</th>\n",
       "      <th>units</th>\n",
       "      <th>one_bed_units</th>\n",
       "      <th>two_bed_units</th>\n",
       "      <th>three_bed_units</th>\n",
       "      <th>four_plus_bed_units</th>\n",
       "      <th>studio_units</th>\n",
       "      <th>...</th>\n",
       "      <th>parking_sp</th>\n",
       "      <th>has_underg</th>\n",
       "      <th>parking_per_unit</th>\n",
       "      <th>status</th>\n",
       "      <th>on_corner</th>\n",
       "      <th>rejected_s</th>\n",
       "      <th>rejected_n</th>\n",
       "      <th>rejected_l</th>\n",
       "      <th>rejected_p</th>\n",
       "      <th>rejected_1</th>\n",
       "    </tr>\n",
       "  </thead>\n",
       "  <tbody>\n",
       "    <tr>\n",
       "      <td>1</td>\n",
       "      <td>524.782500</td>\n",
       "      <td>10.90</td>\n",
       "      <td>8</td>\n",
       "      <td>False</td>\n",
       "      <td>10</td>\n",
       "      <td>0.0</td>\n",
       "      <td>8.0</td>\n",
       "      <td>0.0</td>\n",
       "      <td>0.0</td>\n",
       "      <td>0.0</td>\n",
       "      <td>...</td>\n",
       "      <td>8</td>\n",
       "      <td>0</td>\n",
       "      <td>0.80</td>\n",
       "      <td>1</td>\n",
       "      <td>0</td>\n",
       "      <td>0</td>\n",
       "      <td>0</td>\n",
       "      <td>0</td>\n",
       "      <td>0</td>\n",
       "      <td>0</td>\n",
       "    </tr>\n",
       "    <tr>\n",
       "      <td>2</td>\n",
       "      <td>3.701250</td>\n",
       "      <td>8.57</td>\n",
       "      <td>12</td>\n",
       "      <td>False</td>\n",
       "      <td>8</td>\n",
       "      <td>0.0</td>\n",
       "      <td>0.0</td>\n",
       "      <td>8.0</td>\n",
       "      <td>0.0</td>\n",
       "      <td>0.0</td>\n",
       "      <td>...</td>\n",
       "      <td>12</td>\n",
       "      <td>0</td>\n",
       "      <td>1.50</td>\n",
       "      <td>0</td>\n",
       "      <td>0</td>\n",
       "      <td>1</td>\n",
       "      <td>1</td>\n",
       "      <td>0</td>\n",
       "      <td>1</td>\n",
       "      <td>1</td>\n",
       "    </tr>\n",
       "    <tr>\n",
       "      <td>6</td>\n",
       "      <td>231.494113</td>\n",
       "      <td>10.60</td>\n",
       "      <td>9</td>\n",
       "      <td>False</td>\n",
       "      <td>9</td>\n",
       "      <td>0.0</td>\n",
       "      <td>9.0</td>\n",
       "      <td>0.0</td>\n",
       "      <td>0.0</td>\n",
       "      <td>0.0</td>\n",
       "      <td>...</td>\n",
       "      <td>9</td>\n",
       "      <td>0</td>\n",
       "      <td>1.00</td>\n",
       "      <td>1</td>\n",
       "      <td>1</td>\n",
       "      <td>0</td>\n",
       "      <td>0</td>\n",
       "      <td>0</td>\n",
       "      <td>0</td>\n",
       "      <td>0</td>\n",
       "    </tr>\n",
       "    <tr>\n",
       "      <td>15</td>\n",
       "      <td>482.834705</td>\n",
       "      <td>16.00</td>\n",
       "      <td>24</td>\n",
       "      <td>False</td>\n",
       "      <td>30</td>\n",
       "      <td>9.0</td>\n",
       "      <td>20.0</td>\n",
       "      <td>0.0</td>\n",
       "      <td>0.0</td>\n",
       "      <td>0.0</td>\n",
       "      <td>...</td>\n",
       "      <td>24</td>\n",
       "      <td>0</td>\n",
       "      <td>0.80</td>\n",
       "      <td>1</td>\n",
       "      <td>0</td>\n",
       "      <td>0</td>\n",
       "      <td>0</td>\n",
       "      <td>0</td>\n",
       "      <td>0</td>\n",
       "      <td>0</td>\n",
       "    </tr>\n",
       "    <tr>\n",
       "      <td>30</td>\n",
       "      <td>237.243987</td>\n",
       "      <td>8.78</td>\n",
       "      <td>6</td>\n",
       "      <td>False</td>\n",
       "      <td>8</td>\n",
       "      <td>1.0</td>\n",
       "      <td>4.0</td>\n",
       "      <td>1.0</td>\n",
       "      <td>0.0</td>\n",
       "      <td>0.0</td>\n",
       "      <td>...</td>\n",
       "      <td>6</td>\n",
       "      <td>0</td>\n",
       "      <td>0.75</td>\n",
       "      <td>1</td>\n",
       "      <td>0</td>\n",
       "      <td>0</td>\n",
       "      <td>0</td>\n",
       "      <td>0</td>\n",
       "      <td>0</td>\n",
       "      <td>0</td>\n",
       "    </tr>\n",
       "    <tr>\n",
       "      <td>48</td>\n",
       "      <td>59.867959</td>\n",
       "      <td>12.88</td>\n",
       "      <td>4</td>\n",
       "      <td>False</td>\n",
       "      <td>7</td>\n",
       "      <td>6.0</td>\n",
       "      <td>1.0</td>\n",
       "      <td>0.0</td>\n",
       "      <td>0.0</td>\n",
       "      <td>0.0</td>\n",
       "      <td>...</td>\n",
       "      <td>4</td>\n",
       "      <td>0</td>\n",
       "      <td>0.57</td>\n",
       "      <td>0</td>\n",
       "      <td>0</td>\n",
       "      <td>1</td>\n",
       "      <td>1</td>\n",
       "      <td>0</td>\n",
       "      <td>1</td>\n",
       "      <td>0</td>\n",
       "    </tr>\n",
       "    <tr>\n",
       "      <td>64</td>\n",
       "      <td>132.514075</td>\n",
       "      <td>11.31</td>\n",
       "      <td>0</td>\n",
       "      <td>True</td>\n",
       "      <td>9</td>\n",
       "      <td>0.0</td>\n",
       "      <td>9.0</td>\n",
       "      <td>0.0</td>\n",
       "      <td>0.0</td>\n",
       "      <td>0.0</td>\n",
       "      <td>...</td>\n",
       "      <td>0</td>\n",
       "      <td>1</td>\n",
       "      <td>0.00</td>\n",
       "      <td>1</td>\n",
       "      <td>1</td>\n",
       "      <td>0</td>\n",
       "      <td>0</td>\n",
       "      <td>0</td>\n",
       "      <td>0</td>\n",
       "      <td>0</td>\n",
       "    </tr>\n",
       "    <tr>\n",
       "      <td>67</td>\n",
       "      <td>192.875827</td>\n",
       "      <td>12.70</td>\n",
       "      <td>2</td>\n",
       "      <td>False</td>\n",
       "      <td>7</td>\n",
       "      <td>0.0</td>\n",
       "      <td>6.0</td>\n",
       "      <td>0.0</td>\n",
       "      <td>0.0</td>\n",
       "      <td>0.0</td>\n",
       "      <td>...</td>\n",
       "      <td>2</td>\n",
       "      <td>0</td>\n",
       "      <td>0.29</td>\n",
       "      <td>0</td>\n",
       "      <td>0</td>\n",
       "      <td>1</td>\n",
       "      <td>0</td>\n",
       "      <td>1</td>\n",
       "      <td>0</td>\n",
       "      <td>0</td>\n",
       "    </tr>\n",
       "    <tr>\n",
       "      <td>81</td>\n",
       "      <td>109.345350</td>\n",
       "      <td>12.68</td>\n",
       "      <td>0</td>\n",
       "      <td>False</td>\n",
       "      <td>9</td>\n",
       "      <td>4.0</td>\n",
       "      <td>5.0</td>\n",
       "      <td>0.0</td>\n",
       "      <td>0.0</td>\n",
       "      <td>0.0</td>\n",
       "      <td>...</td>\n",
       "      <td>0</td>\n",
       "      <td>0</td>\n",
       "      <td>0.00</td>\n",
       "      <td>1</td>\n",
       "      <td>0</td>\n",
       "      <td>0</td>\n",
       "      <td>0</td>\n",
       "      <td>0</td>\n",
       "      <td>0</td>\n",
       "      <td>0</td>\n",
       "    </tr>\n",
       "    <tr>\n",
       "      <td>83</td>\n",
       "      <td>192.875827</td>\n",
       "      <td>11.60</td>\n",
       "      <td>2</td>\n",
       "      <td>False</td>\n",
       "      <td>6</td>\n",
       "      <td>1.0</td>\n",
       "      <td>4.0</td>\n",
       "      <td>0.0</td>\n",
       "      <td>0.0</td>\n",
       "      <td>0.0</td>\n",
       "      <td>...</td>\n",
       "      <td>2</td>\n",
       "      <td>0</td>\n",
       "      <td>0.33</td>\n",
       "      <td>0</td>\n",
       "      <td>0</td>\n",
       "      <td>1</td>\n",
       "      <td>1</td>\n",
       "      <td>0</td>\n",
       "      <td>0</td>\n",
       "      <td>0</td>\n",
       "    </tr>\n",
       "    <tr>\n",
       "      <td>92</td>\n",
       "      <td>43.660503</td>\n",
       "      <td>11.66</td>\n",
       "      <td>0</td>\n",
       "      <td>False</td>\n",
       "      <td>15</td>\n",
       "      <td>9.0</td>\n",
       "      <td>5.0</td>\n",
       "      <td>1.0</td>\n",
       "      <td>0.0</td>\n",
       "      <td>0.0</td>\n",
       "      <td>...</td>\n",
       "      <td>0</td>\n",
       "      <td>0</td>\n",
       "      <td>0.00</td>\n",
       "      <td>0</td>\n",
       "      <td>1</td>\n",
       "      <td>1</td>\n",
       "      <td>1</td>\n",
       "      <td>1</td>\n",
       "      <td>1</td>\n",
       "      <td>0</td>\n",
       "    </tr>\n",
       "  </tbody>\n",
       "</table>\n",
       "<p>11 rows × 32 columns</p>\n",
       "</div>"
      ],
      "text/plain": [
       "         area2  max_height  parking_spaces has_underground_parking units  \\\n",
       "1   524.782500       10.90               8                   False    10   \n",
       "2     3.701250        8.57              12                   False     8   \n",
       "6   231.494113       10.60               9                   False     9   \n",
       "15  482.834705       16.00              24                   False    30   \n",
       "30  237.243987        8.78               6                   False     8   \n",
       "48   59.867959       12.88               4                   False     7   \n",
       "64  132.514075       11.31               0                    True     9   \n",
       "67  192.875827       12.70               2                   False     7   \n",
       "81  109.345350       12.68               0                   False     9   \n",
       "83  192.875827       11.60               2                   False     6   \n",
       "92   43.660503       11.66               0                   False    15   \n",
       "\n",
       "    one_bed_units  two_bed_units  three_bed_units  four_plus_bed_units  \\\n",
       "1             0.0            8.0              0.0                  0.0   \n",
       "2             0.0            0.0              8.0                  0.0   \n",
       "6             0.0            9.0              0.0                  0.0   \n",
       "15            9.0           20.0              0.0                  0.0   \n",
       "30            1.0            4.0              1.0                  0.0   \n",
       "48            6.0            1.0              0.0                  0.0   \n",
       "64            0.0            9.0              0.0                  0.0   \n",
       "67            0.0            6.0              0.0                  0.0   \n",
       "81            4.0            5.0              0.0                  0.0   \n",
       "83            1.0            4.0              0.0                  0.0   \n",
       "92            9.0            5.0              1.0                  0.0   \n",
       "\n",
       "    studio_units  ...  parking_sp  has_underg  parking_per_unit  status  \\\n",
       "1            0.0  ...           8           0              0.80       1   \n",
       "2            0.0  ...          12           0              1.50       0   \n",
       "6            0.0  ...           9           0              1.00       1   \n",
       "15           0.0  ...          24           0              0.80       1   \n",
       "30           0.0  ...           6           0              0.75       1   \n",
       "48           0.0  ...           4           0              0.57       0   \n",
       "64           0.0  ...           0           1              0.00       1   \n",
       "67           0.0  ...           2           0              0.29       0   \n",
       "81           0.0  ...           0           0              0.00       1   \n",
       "83           0.0  ...           2           0              0.33       0   \n",
       "92           0.0  ...           0           0              0.00       0   \n",
       "\n",
       "    on_corner  rejected_s  rejected_n  rejected_l rejected_p rejected_1  \n",
       "1           0           0           0           0          0          0  \n",
       "2           0           1           1           0          1          1  \n",
       "6           1           0           0           0          0          0  \n",
       "15          0           0           0           0          0          0  \n",
       "30          0           0           0           0          0          0  \n",
       "48          0           1           1           0          1          0  \n",
       "64          1           0           0           0          0          0  \n",
       "67          0           1           0           1          0          0  \n",
       "81          0           0           0           0          0          0  \n",
       "83          0           1           1           0          0          0  \n",
       "92          1           1           1           1          1          0  \n",
       "\n",
       "[11 rows x 32 columns]"
      ]
     },
     "execution_count": 771,
     "metadata": {},
     "output_type": "execute_result"
    }
   ],
   "source": [
    "# For applications not joined at first attempt we try op='intersects'\n",
    "d_rest=gpd.GeoDataFrame(df_fin1.join(df_dens1[df_dens1.columns[-5:]], how='left'),geometry='geom_proposed', crs={'epsg':'27700'})\n",
    "d_rest=d_rest[pd.isnull(d_rest['density'])][d_rest.columns[:-5]]\n",
    "d_rest"
   ]
  },
  {
   "cell_type": "code",
   "execution_count": 772,
   "metadata": {},
   "outputs": [],
   "source": [
    "# Overlay datasets and leave only observations where intersected area makes up more than 50% of building's area\n",
    "d_rest['geom_proposed_copy']=d_rest['geom_proposed']\n",
    "df_over=gpd.overlay(d_rest,df_dens, how='intersection')\n",
    "df_over=df_over[df_over.area/df_over['area1']>0.5]"
   ]
  },
  {
   "cell_type": "code",
   "execution_count": 556,
   "metadata": {},
   "outputs": [
    {
     "data": {
      "text/plain": [
       "Index(['area2', 'max_height', 'parking_spaces', 'has_underground_parking',\n",
       "       'on_highstreet', 'postcode', 'status', 'address', 'town', 'inspire_ids',\n",
       "       'on_corner', 'rejected_size', 'rejected_neighbour_effect',\n",
       "       'rejected_living_conditions', 'rejected_parking',\n",
       "       'rejected_local_character', 'units', 'one_bed_units', 'two_bed_units',\n",
       "       'three_bed_units', 'four_plus_bed_units', 'studio_units', 'three_more',\n",
       "       'two_more', 'area1', 'ratio_proposed_original', 'total_land_area',\n",
       "       'ratio_proposed_land', 'neigb_maxh', 'neighbor_med', 'geom_original',\n",
       "       'rank', 'planning_a', 'parking_sp', 'has_underg', 'parking_per_unit',\n",
       "       'geom_proposed_copy', 'area_code', 'area_name', 'census_geo',\n",
       "       'all_reside', 'area_ha', 'density', 'Shape_Leng', 'Shape_Area',\n",
       "       'geometry'],\n",
       "      dtype='object')"
      ]
     },
     "execution_count": 556,
     "metadata": {},
     "output_type": "execute_result"
    }
   ],
   "source": [
    "df_over.columns"
   ]
  },
  {
   "cell_type": "code",
   "execution_count": 773,
   "metadata": {},
   "outputs": [],
   "source": [
    "df_over.rename(columns={'geom_proposed_copy':'geom_proposed'}, inplace=True)"
   ]
  },
  {
   "cell_type": "code",
   "execution_count": 774,
   "metadata": {},
   "outputs": [],
   "source": [
    "df_dens1.drop('index_right', axis=1, inplace=True)"
   ]
  },
  {
   "cell_type": "code",
   "execution_count": 775,
   "metadata": {},
   "outputs": [
    {
     "data": {
      "text/plain": [
       "Index(['area2', 'max_height', 'parking_spaces', 'has_underground_parking',\n",
       "       'units', 'one_bed_units', 'two_bed_units', 'three_bed_units',\n",
       "       'four_plus_bed_units', 'studio_units', 'three_more', 'two_more',\n",
       "       'area1', 'ratio_proposed_original', 'total_land_area',\n",
       "       'ratio_proposed_land', 'neigb_maxh', 'neighbor_med', 'geom_proposed',\n",
       "       'geom_original', 'rank', 'planning_a', 'parking_sp', 'has_underg',\n",
       "       'parking_per_unit', 'status', 'on_corner', 'rejected_s', 'rejected_n',\n",
       "       'rejected_l', 'rejected_p', 'rejected_1', 'area_code', 'area_name',\n",
       "       'census_geo', 'all_reside', 'area_ha', 'density', 'Shape_Leng',\n",
       "       'Shape_Area'],\n",
       "      dtype='object')"
      ]
     },
     "execution_count": 775,
     "metadata": {},
     "output_type": "execute_result"
    }
   ],
   "source": [
    "df_dens1.columns"
   ]
  },
  {
   "cell_type": "code",
   "execution_count": 776,
   "metadata": {},
   "outputs": [],
   "source": [
    "df_over=gpd.GeoDataFrame(df_over, geometry='geom_proposed')"
   ]
  },
  {
   "cell_type": "code",
   "execution_count": 447,
   "metadata": {
    "scrolled": true
   },
   "outputs": [],
   "source": [
    "# Check if there are columns with different types in two datasets\n",
    "# dic_type=dict([(i,j) for i,j in df_dens1.dtypes.items() ])\n",
    "\n",
    "# [(i,j) for i,j in df_over[df_dens1.columns].dtypes.items() if dic_type[i]!=j]"
   ]
  },
  {
   "cell_type": "code",
   "execution_count": 777,
   "metadata": {
    "scrolled": true
   },
   "outputs": [],
   "source": [
    "df_dens_fin=pd.concat([df_dens1, df_over[df_dens1.columns]], axis=0, ignore_index=True)"
   ]
  },
  {
   "cell_type": "code",
   "execution_count": 517,
   "metadata": {
    "scrolled": true
   },
   "outputs": [],
   "source": [
    "#converting reasons for rejection values from TRUE/FALSE to 1/0\n",
    "# rej_cols=[i for i in df_dens_fin.columns if 'reject' in i or 'on_corner' in i]\n",
    "# for i in rej_cols:\n",
    "#     df_dens_fin[i] = df_dens_fin[i].astype(bool)*1"
   ]
  },
  {
   "cell_type": "code",
   "execution_count": 778,
   "metadata": {},
   "outputs": [
    {
     "data": {
      "text/html": [
       "<div>\n",
       "<style scoped>\n",
       "    .dataframe tbody tr th:only-of-type {\n",
       "        vertical-align: middle;\n",
       "    }\n",
       "\n",
       "    .dataframe tbody tr th {\n",
       "        vertical-align: top;\n",
       "    }\n",
       "\n",
       "    .dataframe thead th {\n",
       "        text-align: right;\n",
       "    }\n",
       "</style>\n",
       "<table border=\"1\" class=\"dataframe\">\n",
       "  <thead>\n",
       "    <tr style=\"text-align: right;\">\n",
       "      <th></th>\n",
       "      <th>area2</th>\n",
       "      <th>max_height</th>\n",
       "      <th>parking_spaces</th>\n",
       "      <th>one_bed_units</th>\n",
       "      <th>two_bed_units</th>\n",
       "      <th>three_bed_units</th>\n",
       "      <th>four_plus_bed_units</th>\n",
       "      <th>studio_units</th>\n",
       "      <th>three_more</th>\n",
       "      <th>two_more</th>\n",
       "      <th>...</th>\n",
       "      <th>rejected_s</th>\n",
       "      <th>rejected_n</th>\n",
       "      <th>rejected_l</th>\n",
       "      <th>rejected_p</th>\n",
       "      <th>rejected_1</th>\n",
       "      <th>all_reside</th>\n",
       "      <th>area_ha</th>\n",
       "      <th>density</th>\n",
       "      <th>Shape_Leng</th>\n",
       "      <th>Shape_Area</th>\n",
       "    </tr>\n",
       "  </thead>\n",
       "  <tbody>\n",
       "    <tr>\n",
       "      <td>count</td>\n",
       "      <td>102.000000</td>\n",
       "      <td>102.000000</td>\n",
       "      <td>102.000000</td>\n",
       "      <td>102.000000</td>\n",
       "      <td>102.000000</td>\n",
       "      <td>102.000000</td>\n",
       "      <td>102.000000</td>\n",
       "      <td>102.000000</td>\n",
       "      <td>102.000000</td>\n",
       "      <td>102.000000</td>\n",
       "      <td>...</td>\n",
       "      <td>102.000000</td>\n",
       "      <td>102.000000</td>\n",
       "      <td>102.000000</td>\n",
       "      <td>102.000000</td>\n",
       "      <td>102.000000</td>\n",
       "      <td>102.000000</td>\n",
       "      <td>102.000000</td>\n",
       "      <td>102.000000</td>\n",
       "      <td>102.000000</td>\n",
       "      <td>1.020000e+02</td>\n",
       "    </tr>\n",
       "    <tr>\n",
       "      <td>mean</td>\n",
       "      <td>138.052719</td>\n",
       "      <td>10.239447</td>\n",
       "      <td>7.421569</td>\n",
       "      <td>2.166667</td>\n",
       "      <td>5.313725</td>\n",
       "      <td>0.509804</td>\n",
       "      <td>0.264706</td>\n",
       "      <td>0.039216</td>\n",
       "      <td>0.774510</td>\n",
       "      <td>6.088235</td>\n",
       "      <td>...</td>\n",
       "      <td>0.411765</td>\n",
       "      <td>0.303922</td>\n",
       "      <td>0.176471</td>\n",
       "      <td>0.127451</td>\n",
       "      <td>0.068627</td>\n",
       "      <td>1614.068627</td>\n",
       "      <td>57.130686</td>\n",
       "      <td>38.537255</td>\n",
       "      <td>4776.681403</td>\n",
       "      <td>5.712970e+05</td>\n",
       "    </tr>\n",
       "    <tr>\n",
       "      <td>std</td>\n",
       "      <td>92.790571</td>\n",
       "      <td>1.801805</td>\n",
       "      <td>8.600525</td>\n",
       "      <td>2.941958</td>\n",
       "      <td>3.709715</td>\n",
       "      <td>1.384104</td>\n",
       "      <td>1.319514</td>\n",
       "      <td>0.278666</td>\n",
       "      <td>1.882209</td>\n",
       "      <td>3.598963</td>\n",
       "      <td>...</td>\n",
       "      <td>0.494583</td>\n",
       "      <td>0.462221</td>\n",
       "      <td>0.383103</td>\n",
       "      <td>0.335124</td>\n",
       "      <td>0.254068</td>\n",
       "      <td>188.384758</td>\n",
       "      <td>50.222014</td>\n",
       "      <td>19.745645</td>\n",
       "      <td>1671.129795</td>\n",
       "      <td>5.022135e+05</td>\n",
       "    </tr>\n",
       "    <tr>\n",
       "      <td>min</td>\n",
       "      <td>2.323750</td>\n",
       "      <td>6.280000</td>\n",
       "      <td>0.000000</td>\n",
       "      <td>0.000000</td>\n",
       "      <td>0.000000</td>\n",
       "      <td>0.000000</td>\n",
       "      <td>0.000000</td>\n",
       "      <td>0.000000</td>\n",
       "      <td>0.000000</td>\n",
       "      <td>0.000000</td>\n",
       "      <td>...</td>\n",
       "      <td>0.000000</td>\n",
       "      <td>0.000000</td>\n",
       "      <td>0.000000</td>\n",
       "      <td>0.000000</td>\n",
       "      <td>0.000000</td>\n",
       "      <td>1206.000000</td>\n",
       "      <td>13.610000</td>\n",
       "      <td>3.400000</td>\n",
       "      <td>1875.749139</td>\n",
       "      <td>1.361417e+05</td>\n",
       "    </tr>\n",
       "    <tr>\n",
       "      <td>25%</td>\n",
       "      <td>82.789375</td>\n",
       "      <td>8.757500</td>\n",
       "      <td>3.250000</td>\n",
       "      <td>0.000000</td>\n",
       "      <td>3.000000</td>\n",
       "      <td>0.000000</td>\n",
       "      <td>0.000000</td>\n",
       "      <td>0.000000</td>\n",
       "      <td>0.000000</td>\n",
       "      <td>4.000000</td>\n",
       "      <td>...</td>\n",
       "      <td>0.000000</td>\n",
       "      <td>0.000000</td>\n",
       "      <td>0.000000</td>\n",
       "      <td>0.000000</td>\n",
       "      <td>0.000000</td>\n",
       "      <td>1520.000000</td>\n",
       "      <td>34.290000</td>\n",
       "      <td>23.925000</td>\n",
       "      <td>3739.312264</td>\n",
       "      <td>3.429155e+05</td>\n",
       "    </tr>\n",
       "    <tr>\n",
       "      <td>50%</td>\n",
       "      <td>131.004386</td>\n",
       "      <td>10.125000</td>\n",
       "      <td>6.000000</td>\n",
       "      <td>1.000000</td>\n",
       "      <td>5.000000</td>\n",
       "      <td>0.000000</td>\n",
       "      <td>0.000000</td>\n",
       "      <td>0.000000</td>\n",
       "      <td>0.000000</td>\n",
       "      <td>6.000000</td>\n",
       "      <td>...</td>\n",
       "      <td>0.000000</td>\n",
       "      <td>0.000000</td>\n",
       "      <td>0.000000</td>\n",
       "      <td>0.000000</td>\n",
       "      <td>0.000000</td>\n",
       "      <td>1612.500000</td>\n",
       "      <td>41.520000</td>\n",
       "      <td>38.500000</td>\n",
       "      <td>4817.138526</td>\n",
       "      <td>4.152668e+05</td>\n",
       "    </tr>\n",
       "    <tr>\n",
       "      <td>75%</td>\n",
       "      <td>164.805645</td>\n",
       "      <td>11.832500</td>\n",
       "      <td>9.000000</td>\n",
       "      <td>3.000000</td>\n",
       "      <td>7.000000</td>\n",
       "      <td>0.000000</td>\n",
       "      <td>0.000000</td>\n",
       "      <td>0.000000</td>\n",
       "      <td>0.750000</td>\n",
       "      <td>8.000000</td>\n",
       "      <td>...</td>\n",
       "      <td>1.000000</td>\n",
       "      <td>1.000000</td>\n",
       "      <td>0.000000</td>\n",
       "      <td>0.000000</td>\n",
       "      <td>0.000000</td>\n",
       "      <td>1703.500000</td>\n",
       "      <td>64.390000</td>\n",
       "      <td>46.400000</td>\n",
       "      <td>5306.785792</td>\n",
       "      <td>6.439761e+05</td>\n",
       "    </tr>\n",
       "    <tr>\n",
       "      <td>max</td>\n",
       "      <td>524.782500</td>\n",
       "      <td>16.000000</td>\n",
       "      <td>78.000000</td>\n",
       "      <td>17.000000</td>\n",
       "      <td>20.000000</td>\n",
       "      <td>8.000000</td>\n",
       "      <td>8.000000</td>\n",
       "      <td>2.000000</td>\n",
       "      <td>8.000000</td>\n",
       "      <td>20.000000</td>\n",
       "      <td>...</td>\n",
       "      <td>1.000000</td>\n",
       "      <td>1.000000</td>\n",
       "      <td>1.000000</td>\n",
       "      <td>1.000000</td>\n",
       "      <td>1.000000</td>\n",
       "      <td>2266.000000</td>\n",
       "      <td>460.040000</td>\n",
       "      <td>116.500000</td>\n",
       "      <td>15913.657770</td>\n",
       "      <td>4.600365e+06</td>\n",
       "    </tr>\n",
       "  </tbody>\n",
       "</table>\n",
       "<p>8 rows × 32 columns</p>\n",
       "</div>"
      ],
      "text/plain": [
       "            area2  max_height  parking_spaces  one_bed_units  two_bed_units  \\\n",
       "count  102.000000  102.000000      102.000000     102.000000     102.000000   \n",
       "mean   138.052719   10.239447        7.421569       2.166667       5.313725   \n",
       "std     92.790571    1.801805        8.600525       2.941958       3.709715   \n",
       "min      2.323750    6.280000        0.000000       0.000000       0.000000   \n",
       "25%     82.789375    8.757500        3.250000       0.000000       3.000000   \n",
       "50%    131.004386   10.125000        6.000000       1.000000       5.000000   \n",
       "75%    164.805645   11.832500        9.000000       3.000000       7.000000   \n",
       "max    524.782500   16.000000       78.000000      17.000000      20.000000   \n",
       "\n",
       "       three_bed_units  four_plus_bed_units  studio_units  three_more  \\\n",
       "count       102.000000           102.000000    102.000000  102.000000   \n",
       "mean          0.509804             0.264706      0.039216    0.774510   \n",
       "std           1.384104             1.319514      0.278666    1.882209   \n",
       "min           0.000000             0.000000      0.000000    0.000000   \n",
       "25%           0.000000             0.000000      0.000000    0.000000   \n",
       "50%           0.000000             0.000000      0.000000    0.000000   \n",
       "75%           0.000000             0.000000      0.000000    0.750000   \n",
       "max           8.000000             8.000000      2.000000    8.000000   \n",
       "\n",
       "         two_more  ...  rejected_s  rejected_n  rejected_l  rejected_p  \\\n",
       "count  102.000000  ...  102.000000  102.000000  102.000000  102.000000   \n",
       "mean     6.088235  ...    0.411765    0.303922    0.176471    0.127451   \n",
       "std      3.598963  ...    0.494583    0.462221    0.383103    0.335124   \n",
       "min      0.000000  ...    0.000000    0.000000    0.000000    0.000000   \n",
       "25%      4.000000  ...    0.000000    0.000000    0.000000    0.000000   \n",
       "50%      6.000000  ...    0.000000    0.000000    0.000000    0.000000   \n",
       "75%      8.000000  ...    1.000000    1.000000    0.000000    0.000000   \n",
       "max     20.000000  ...    1.000000    1.000000    1.000000    1.000000   \n",
       "\n",
       "       rejected_1   all_reside     area_ha     density    Shape_Leng  \\\n",
       "count  102.000000   102.000000  102.000000  102.000000    102.000000   \n",
       "mean     0.068627  1614.068627   57.130686   38.537255   4776.681403   \n",
       "std      0.254068   188.384758   50.222014   19.745645   1671.129795   \n",
       "min      0.000000  1206.000000   13.610000    3.400000   1875.749139   \n",
       "25%      0.000000  1520.000000   34.290000   23.925000   3739.312264   \n",
       "50%      0.000000  1612.500000   41.520000   38.500000   4817.138526   \n",
       "75%      0.000000  1703.500000   64.390000   46.400000   5306.785792   \n",
       "max      1.000000  2266.000000  460.040000  116.500000  15913.657770   \n",
       "\n",
       "         Shape_Area  \n",
       "count  1.020000e+02  \n",
       "mean   5.712970e+05  \n",
       "std    5.022135e+05  \n",
       "min    1.361417e+05  \n",
       "25%    3.429155e+05  \n",
       "50%    4.152668e+05  \n",
       "75%    6.439761e+05  \n",
       "max    4.600365e+06  \n",
       "\n",
       "[8 rows x 32 columns]"
      ]
     },
     "execution_count": 778,
     "metadata": {},
     "output_type": "execute_result"
    }
   ],
   "source": [
    "df_dens_fin.describe()"
   ]
  },
  {
   "cell_type": "code",
   "execution_count": 779,
   "metadata": {},
   "outputs": [],
   "source": [
    "df_dens_fin['h_neigb_max']=df_dens_fin['max_height']/df_dens_fin['neigb_maxh']\n",
    "df_dens_fin['h_neigb_med']=df_dens_fin['max_height']/df_dens_fin['neighbor_med']"
   ]
  },
  {
   "cell_type": "code",
   "execution_count": 780,
   "metadata": {},
   "outputs": [],
   "source": [
    "df_dens_fin['has_underground_parking']=df_dens_fin['has_underground_parking'].astype(bool)*1"
   ]
  },
  {
   "cell_type": "code",
   "execution_count": 781,
   "metadata": {},
   "outputs": [
    {
     "data": {
      "text/plain": [
       "(102, 42)"
      ]
     },
     "execution_count": 781,
     "metadata": {},
     "output_type": "execute_result"
    }
   ],
   "source": [
    "df_dens_fin.shape"
   ]
  },
  {
   "cell_type": "code",
   "execution_count": 786,
   "metadata": {},
   "outputs": [],
   "source": [
    "features=['area2', 'max_height', 'parking_spaces', 'has_underground_parking',\n",
    "       'units', 'one_bed_units', 'two_bed_units','units',\n",
    "       'three_bed_units', 'four_plus_bed_units', 'studio_units', 'three_more',\n",
    "       'two_more', 'area1', 'ratio_proposed_original', 'total_land_area', \n",
    "       'ratio_proposed_land', 'neigb_maxh', 'neighbor_med']\n",
    "target_cols=[i for i in df_dens_fin.columns if 'status' in i or 'reject' in i ]"
   ]
  },
  {
   "cell_type": "code",
   "execution_count": null,
   "metadata": {},
   "outputs": [],
   "source": [
    "df_dens_fin"
   ]
  },
  {
   "cell_type": "code",
   "execution_count": 787,
   "metadata": {},
   "outputs": [],
   "source": [
    "df_dens_fin[features+target_cols].to_csv('df_dens_fin.csv')"
   ]
  },
  {
   "cell_type": "code",
   "execution_count": 785,
   "metadata": {},
   "outputs": [
    {
     "data": {
      "text/html": [
       "<div>\n",
       "<style scoped>\n",
       "    .dataframe tbody tr th:only-of-type {\n",
       "        vertical-align: middle;\n",
       "    }\n",
       "\n",
       "    .dataframe tbody tr th {\n",
       "        vertical-align: top;\n",
       "    }\n",
       "\n",
       "    .dataframe thead th {\n",
       "        text-align: right;\n",
       "    }\n",
       "</style>\n",
       "<table border=\"1\" class=\"dataframe\">\n",
       "  <thead>\n",
       "    <tr style=\"text-align: right;\">\n",
       "      <th></th>\n",
       "      <th>area2</th>\n",
       "      <th>max_height</th>\n",
       "      <th>parking_spaces</th>\n",
       "      <th>has_underground_parking</th>\n",
       "      <th>units</th>\n",
       "      <th>one_bed_units</th>\n",
       "      <th>two_bed_units</th>\n",
       "      <th>units</th>\n",
       "      <th>three_bed_units</th>\n",
       "      <th>four_plus_bed_units</th>\n",
       "      <th>studio_units</th>\n",
       "      <th>three_more</th>\n",
       "      <th>two_more</th>\n",
       "      <th>area1</th>\n",
       "      <th>ratio_proposed_original</th>\n",
       "      <th>total_land_area</th>\n",
       "      <th>ratio_proposed_land</th>\n",
       "      <th>neigb_maxh</th>\n",
       "      <th>neighbor_med</th>\n",
       "    </tr>\n",
       "  </thead>\n",
       "  <tbody>\n",
       "    <tr>\n",
       "      <td>0</td>\n",
       "      <td>130.947238</td>\n",
       "      <td>12.00</td>\n",
       "      <td>21</td>\n",
       "      <td>0</td>\n",
       "      <td>21</td>\n",
       "      <td>1.0</td>\n",
       "      <td>18.0</td>\n",
       "      <td>21</td>\n",
       "      <td>2.0</td>\n",
       "      <td>0.0</td>\n",
       "      <td>0.0</td>\n",
       "      <td>2.0</td>\n",
       "      <td>20.0</td>\n",
       "      <td>435.183680</td>\n",
       "      <td>3.323351</td>\n",
       "      <td>1570.891205</td>\n",
       "      <td>0.277030</td>\n",
       "      <td>15.9</td>\n",
       "      <td>13.80</td>\n",
       "    </tr>\n",
       "    <tr>\n",
       "      <td>1</td>\n",
       "      <td>224.366138</td>\n",
       "      <td>11.89</td>\n",
       "      <td>10</td>\n",
       "      <td>0</td>\n",
       "      <td>7</td>\n",
       "      <td>0.0</td>\n",
       "      <td>7.0</td>\n",
       "      <td>7</td>\n",
       "      <td>0.0</td>\n",
       "      <td>0.0</td>\n",
       "      <td>0.0</td>\n",
       "      <td>0.0</td>\n",
       "      <td>7.0</td>\n",
       "      <td>272.992036</td>\n",
       "      <td>1.216726</td>\n",
       "      <td>1496.925000</td>\n",
       "      <td>0.182369</td>\n",
       "      <td>16.3</td>\n",
       "      <td>9.50</td>\n",
       "    </tr>\n",
       "    <tr>\n",
       "      <td>2</td>\n",
       "      <td>130.947238</td>\n",
       "      <td>12.93</td>\n",
       "      <td>19</td>\n",
       "      <td>0</td>\n",
       "      <td>16</td>\n",
       "      <td>0.0</td>\n",
       "      <td>14.0</td>\n",
       "      <td>16</td>\n",
       "      <td>2.0</td>\n",
       "      <td>0.0</td>\n",
       "      <td>0.0</td>\n",
       "      <td>2.0</td>\n",
       "      <td>16.0</td>\n",
       "      <td>520.568057</td>\n",
       "      <td>3.975403</td>\n",
       "      <td>1570.891205</td>\n",
       "      <td>0.331384</td>\n",
       "      <td>15.9</td>\n",
       "      <td>14.85</td>\n",
       "    </tr>\n",
       "    <tr>\n",
       "      <td>3</td>\n",
       "      <td>153.657469</td>\n",
       "      <td>9.00</td>\n",
       "      <td>2</td>\n",
       "      <td>1</td>\n",
       "      <td>8</td>\n",
       "      <td>0.0</td>\n",
       "      <td>3.0</td>\n",
       "      <td>8</td>\n",
       "      <td>5.0</td>\n",
       "      <td>0.0</td>\n",
       "      <td>0.0</td>\n",
       "      <td>5.0</td>\n",
       "      <td>8.0</td>\n",
       "      <td>415.575645</td>\n",
       "      <td>2.704559</td>\n",
       "      <td>1839.866518</td>\n",
       "      <td>0.225873</td>\n",
       "      <td>13.6</td>\n",
       "      <td>12.05</td>\n",
       "    </tr>\n",
       "    <tr>\n",
       "      <td>4</td>\n",
       "      <td>165.526533</td>\n",
       "      <td>8.54</td>\n",
       "      <td>3</td>\n",
       "      <td>1</td>\n",
       "      <td>6</td>\n",
       "      <td>0.0</td>\n",
       "      <td>6.0</td>\n",
       "      <td>6</td>\n",
       "      <td>0.0</td>\n",
       "      <td>0.0</td>\n",
       "      <td>0.0</td>\n",
       "      <td>0.0</td>\n",
       "      <td>6.0</td>\n",
       "      <td>367.842239</td>\n",
       "      <td>2.222255</td>\n",
       "      <td>1625.078087</td>\n",
       "      <td>0.226354</td>\n",
       "      <td>13.6</td>\n",
       "      <td>11.40</td>\n",
       "    </tr>\n",
       "    <tr>\n",
       "      <td>...</td>\n",
       "      <td>...</td>\n",
       "      <td>...</td>\n",
       "      <td>...</td>\n",
       "      <td>...</td>\n",
       "      <td>...</td>\n",
       "      <td>...</td>\n",
       "      <td>...</td>\n",
       "      <td>...</td>\n",
       "      <td>...</td>\n",
       "      <td>...</td>\n",
       "      <td>...</td>\n",
       "      <td>...</td>\n",
       "      <td>...</td>\n",
       "      <td>...</td>\n",
       "      <td>...</td>\n",
       "      <td>...</td>\n",
       "      <td>...</td>\n",
       "      <td>...</td>\n",
       "      <td>...</td>\n",
       "    </tr>\n",
       "    <tr>\n",
       "      <td>97</td>\n",
       "      <td>132.514075</td>\n",
       "      <td>11.31</td>\n",
       "      <td>0</td>\n",
       "      <td>1</td>\n",
       "      <td>9</td>\n",
       "      <td>0.0</td>\n",
       "      <td>9.0</td>\n",
       "      <td>9</td>\n",
       "      <td>0.0</td>\n",
       "      <td>0.0</td>\n",
       "      <td>0.0</td>\n",
       "      <td>0.0</td>\n",
       "      <td>9.0</td>\n",
       "      <td>426.941534</td>\n",
       "      <td>3.221858</td>\n",
       "      <td>1495.366250</td>\n",
       "      <td>0.285510</td>\n",
       "      <td>18.3</td>\n",
       "      <td>11.20</td>\n",
       "    </tr>\n",
       "    <tr>\n",
       "      <td>98</td>\n",
       "      <td>192.875827</td>\n",
       "      <td>12.70</td>\n",
       "      <td>2</td>\n",
       "      <td>0</td>\n",
       "      <td>7</td>\n",
       "      <td>0.0</td>\n",
       "      <td>6.0</td>\n",
       "      <td>7</td>\n",
       "      <td>0.0</td>\n",
       "      <td>0.0</td>\n",
       "      <td>0.0</td>\n",
       "      <td>0.0</td>\n",
       "      <td>6.0</td>\n",
       "      <td>198.561816</td>\n",
       "      <td>1.029480</td>\n",
       "      <td>418.836315</td>\n",
       "      <td>0.474080</td>\n",
       "      <td>15.3</td>\n",
       "      <td>10.70</td>\n",
       "    </tr>\n",
       "    <tr>\n",
       "      <td>99</td>\n",
       "      <td>192.875827</td>\n",
       "      <td>11.60</td>\n",
       "      <td>2</td>\n",
       "      <td>0</td>\n",
       "      <td>6</td>\n",
       "      <td>1.0</td>\n",
       "      <td>4.0</td>\n",
       "      <td>6</td>\n",
       "      <td>0.0</td>\n",
       "      <td>0.0</td>\n",
       "      <td>0.0</td>\n",
       "      <td>0.0</td>\n",
       "      <td>4.0</td>\n",
       "      <td>208.434921</td>\n",
       "      <td>1.080669</td>\n",
       "      <td>418.836315</td>\n",
       "      <td>0.497652</td>\n",
       "      <td>15.3</td>\n",
       "      <td>10.70</td>\n",
       "    </tr>\n",
       "    <tr>\n",
       "      <td>100</td>\n",
       "      <td>109.345350</td>\n",
       "      <td>12.68</td>\n",
       "      <td>0</td>\n",
       "      <td>0</td>\n",
       "      <td>9</td>\n",
       "      <td>4.0</td>\n",
       "      <td>5.0</td>\n",
       "      <td>9</td>\n",
       "      <td>0.0</td>\n",
       "      <td>0.0</td>\n",
       "      <td>0.0</td>\n",
       "      <td>0.0</td>\n",
       "      <td>5.0</td>\n",
       "      <td>164.882796</td>\n",
       "      <td>1.507909</td>\n",
       "      <td>188.072500</td>\n",
       "      <td>0.876698</td>\n",
       "      <td>16.8</td>\n",
       "      <td>16.70</td>\n",
       "    </tr>\n",
       "    <tr>\n",
       "      <td>101</td>\n",
       "      <td>43.660503</td>\n",
       "      <td>11.66</td>\n",
       "      <td>0</td>\n",
       "      <td>0</td>\n",
       "      <td>15</td>\n",
       "      <td>9.0</td>\n",
       "      <td>5.0</td>\n",
       "      <td>15</td>\n",
       "      <td>1.0</td>\n",
       "      <td>0.0</td>\n",
       "      <td>0.0</td>\n",
       "      <td>1.0</td>\n",
       "      <td>6.0</td>\n",
       "      <td>233.722745</td>\n",
       "      <td>5.353185</td>\n",
       "      <td>340.229075</td>\n",
       "      <td>0.686957</td>\n",
       "      <td>12.5</td>\n",
       "      <td>9.50</td>\n",
       "    </tr>\n",
       "  </tbody>\n",
       "</table>\n",
       "<p>102 rows × 19 columns</p>\n",
       "</div>"
      ],
      "text/plain": [
       "          area2  max_height  parking_spaces  has_underground_parking units  \\\n",
       "0    130.947238       12.00              21                        0    21   \n",
       "1    224.366138       11.89              10                        0     7   \n",
       "2    130.947238       12.93              19                        0    16   \n",
       "3    153.657469        9.00               2                        1     8   \n",
       "4    165.526533        8.54               3                        1     6   \n",
       "..          ...         ...             ...                      ...   ...   \n",
       "97   132.514075       11.31               0                        1     9   \n",
       "98   192.875827       12.70               2                        0     7   \n",
       "99   192.875827       11.60               2                        0     6   \n",
       "100  109.345350       12.68               0                        0     9   \n",
       "101   43.660503       11.66               0                        0    15   \n",
       "\n",
       "     one_bed_units  two_bed_units units  three_bed_units  four_plus_bed_units  \\\n",
       "0              1.0           18.0    21              2.0                  0.0   \n",
       "1              0.0            7.0     7              0.0                  0.0   \n",
       "2              0.0           14.0    16              2.0                  0.0   \n",
       "3              0.0            3.0     8              5.0                  0.0   \n",
       "4              0.0            6.0     6              0.0                  0.0   \n",
       "..             ...            ...   ...              ...                  ...   \n",
       "97             0.0            9.0     9              0.0                  0.0   \n",
       "98             0.0            6.0     7              0.0                  0.0   \n",
       "99             1.0            4.0     6              0.0                  0.0   \n",
       "100            4.0            5.0     9              0.0                  0.0   \n",
       "101            9.0            5.0    15              1.0                  0.0   \n",
       "\n",
       "     studio_units  three_more  two_more       area1  ratio_proposed_original  \\\n",
       "0             0.0         2.0      20.0  435.183680                 3.323351   \n",
       "1             0.0         0.0       7.0  272.992036                 1.216726   \n",
       "2             0.0         2.0      16.0  520.568057                 3.975403   \n",
       "3             0.0         5.0       8.0  415.575645                 2.704559   \n",
       "4             0.0         0.0       6.0  367.842239                 2.222255   \n",
       "..            ...         ...       ...         ...                      ...   \n",
       "97            0.0         0.0       9.0  426.941534                 3.221858   \n",
       "98            0.0         0.0       6.0  198.561816                 1.029480   \n",
       "99            0.0         0.0       4.0  208.434921                 1.080669   \n",
       "100           0.0         0.0       5.0  164.882796                 1.507909   \n",
       "101           0.0         1.0       6.0  233.722745                 5.353185   \n",
       "\n",
       "     total_land_area  ratio_proposed_land  neigb_maxh  neighbor_med  \n",
       "0        1570.891205             0.277030        15.9         13.80  \n",
       "1        1496.925000             0.182369        16.3          9.50  \n",
       "2        1570.891205             0.331384        15.9         14.85  \n",
       "3        1839.866518             0.225873        13.6         12.05  \n",
       "4        1625.078087             0.226354        13.6         11.40  \n",
       "..               ...                  ...         ...           ...  \n",
       "97       1495.366250             0.285510        18.3         11.20  \n",
       "98        418.836315             0.474080        15.3         10.70  \n",
       "99        418.836315             0.497652        15.3         10.70  \n",
       "100       188.072500             0.876698        16.8         16.70  \n",
       "101       340.229075             0.686957        12.5          9.50  \n",
       "\n",
       "[102 rows x 19 columns]"
      ]
     },
     "execution_count": 785,
     "metadata": {},
     "output_type": "execute_result"
    }
   ],
   "source": [
    "df_dens_fin[features]"
   ]
  },
  {
   "cell_type": "code",
   "execution_count": 788,
   "metadata": {},
   "outputs": [
    {
     "data": {
      "text/plain": [
       "<matplotlib.axes._subplots.AxesSubplot at 0x2a1947a2a48>"
      ]
     },
     "execution_count": 788,
     "metadata": {},
     "output_type": "execute_result"
    },
    {
     "data": {
      "image/png": "[encoded data removed]",
      "text/plain": [
       "<Figure size 432x288 with 1 Axes>"
      ]
     },
     "metadata": {
      "needs_background": "light"
     },
     "output_type": "display_data"
    }
   ],
   "source": [
    "sns.countplot(df_dens_fin.status)"
   ]
  },
  {
   "cell_type": "code",
   "execution_count": 577,
   "metadata": {},
   "outputs": [
    {
     "data": {
      "text/plain": [
       "<matplotlib.axes._subplots.AxesSubplot at 0x2a1a10d4dc8>"
      ]
     },
     "execution_count": 577,
     "metadata": {},
     "output_type": "execute_result"
    },
    {
     "data": {
      "image/png": "[encoded data removed]",
      "text/plain": [
       "<Figure size 432x288 with 1 Axes>"
      ]
     },
     "metadata": {
      "needs_background": "light"
     },
     "output_type": "display_data"
    }
   ],
   "source": [
    "df_dens_fin.groupby('rejected_s')['h_neigb_med'].median().plot(kind='bar')"
   ]
  },
  {
   "cell_type": "code",
   "execution_count": 533,
   "metadata": {},
   "outputs": [
    {
     "data": {
      "text/plain": [
       "<matplotlib.axes._subplots.AxesSubplot at 0x2a1a10b0408>"
      ]
     },
     "execution_count": 533,
     "metadata": {},
     "output_type": "execute_result"
    },
    {
     "data": {
      "image/png": "[encoded data removed]",
      "text/plain": [
       "<Figure size 432x288 with 1 Axes>"
      ]
     },
     "metadata": {
      "needs_background": "light"
     },
     "output_type": "display_data"
    }
   ],
   "source": [
    "df_dens_fin.groupby('rejected_size')['h_neigb_max'].median().plot(kind='bar')"
   ]
  }
 ],
 "metadata": {
  "kernelspec": {
   "display_name": "Python 3",
   "language": "python",
   "name": "python3"
  },
  "language_info": {
   "codemirror_mode": {
    "name": "ipython",
    "version": 3
   },
   "file_extension": ".py",
   "mimetype": "text/x-python",
   "name": "python",
   "nbconvert_exporter": "python",
   "pygments_lexer": "ipython3",
   "version": "3.7.4"
  }
 },
 "nbformat": 4,
 "nbformat_minor": 2
}
