{
 "cells": [
  {
   "cell_type": "code",
   "execution_count": 8,
   "metadata": {},
   "outputs": [],
   "source": [
    "import gdal\n",
    "import os"
   ]
  },
  {
   "cell_type": "code",
   "execution_count": 64,
   "metadata": {
    "scrolled": true
   },
   "outputs": [
    {
     "name": "stdout",
     "output_type": "stream",
     "text": [
      "Collecting rasterstats\n",
      "  Downloading https://files.pythonhosted.org/packages/bd/86/493e7794124d1048254bd3be562839506a4ea1777d7ce28313b1d2a24312/rasterstats-0.14.0-py3-none-any.whl\n",
      "Requirement already satisfied: shapely in c:\\users\\intra24\\anaconda3\\lib\\site-packages (from rasterstats) (1.6.4.post2)\n",
      "Requirement already satisfied: cligj>=0.4 in c:\\users\\intra24\\anaconda3\\lib\\site-packages (from rasterstats) (0.5.0)\n",
      "Requirement already satisfied: numpy>=1.9 in c:\\users\\intra24\\anaconda3\\lib\\site-packages (from rasterstats) (1.16.5)\n",
      "Collecting simplejson (from rasterstats)\n",
      "  Downloading https://files.pythonhosted.org/packages/36/59/e8433d95e0683a045060a020624dec653499df73726359d68d567869cbac/simplejson-3.17.0-cp37-cp37m-win_amd64.whl (73kB)\n",
      "Requirement already satisfied: rasterio>=1.0 in c:\\users\\intra24\\anaconda3\\lib\\site-packages (from rasterstats) (1.1.2)\n",
      "Requirement already satisfied: fiona in c:\\users\\intra24\\anaconda3\\lib\\site-packages (from rasterstats) (1.8.13)\n",
      "Requirement already satisfied: affine<3.0 in c:\\users\\intra24\\anaconda3\\lib\\site-packages (from rasterstats) (2.3.0)\n",
      "Requirement already satisfied: click<8,>=4.0 in c:\\users\\intra24\\anaconda3\\lib\\site-packages (from cligj>=0.4->rasterstats) (7.0)\n",
      "Requirement already satisfied: click-plugins in c:\\users\\intra24\\anaconda3\\lib\\site-packages (from rasterio>=1.0->rasterstats) (1.1.1)\n",
      "Requirement already satisfied: attrs in c:\\users\\intra24\\anaconda3\\lib\\site-packages (from rasterio>=1.0->rasterstats) (19.2.0)\n",
      "Requirement already satisfied: snuggs>=1.4.1 in c:\\users\\intra24\\anaconda3\\lib\\site-packages (from rasterio>=1.0->rasterstats) (1.4.7)\n",
      "Requirement already satisfied: gdal~=3.0.1 in c:\\users\\intra24\\anaconda3\\lib\\site-packages (from rasterio>=1.0->rasterstats) (3.0.3)\n",
      "Requirement already satisfied: six>=1.7 in c:\\users\\intra24\\anaconda3\\lib\\site-packages (from fiona->rasterstats) (1.12.0)\n",
      "Requirement already satisfied: munch in c:\\users\\intra24\\anaconda3\\lib\\site-packages (from fiona->rasterstats) (2.5.0)\n",
      "Requirement already satisfied: pyparsing>=2.1.6 in c:\\users\\intra24\\anaconda3\\lib\\site-packages (from snuggs>=1.4.1->rasterio>=1.0->rasterstats) (2.4.2)\n",
      "Installing collected packages: simplejson, rasterstats\n",
      "Successfully installed rasterstats-0.14.0 simplejson-3.17.0\n"
     ]
    }
   ],
   "source": [
    "! pip install rasterstats"
   ]
  },
  {
   "cell_type": "code",
   "execution_count": 9,
   "metadata": {},
   "outputs": [],
   "source": [
    "import  geopandas as gpd\n",
    "import rasterstats as rs\n",
    "import subprocess"
   ]
  },
  {
   "cell_type": "code",
   "execution_count": 12,
   "metadata": {},
   "outputs": [],
   "source": [
    "gm = os.path.join('C:\\\\','OSGeo4W64','bin','gdal_merge.py')\n",
    "gc=os.path.join('C:\\\\','OSGeo4W64','bin','gdal_calc.py')"
   ]
  },
  {
   "cell_type": "code",
   "execution_count": 30,
   "metadata": {},
   "outputs": [],
   "source": [
    "list_path=[]=[]\n",
    "for tfl in os.listdir(folder):\n",
    "    file2 = os.path.join(folder, tfl)    \n",
    "    list_path.append(file2)"
   ]
  },
  {
   "cell_type": "code",
   "execution_count": null,
   "metadata": {},
   "outputs": [],
   "source": [
    "def get_merged_tif(file_type): # merge dtm/dsm file from Bromley and Croydon areas\n",
    "    folder=r'\\lidar_{}'.format(file_type)\n",
    "    folder1=r'\\merged_{}'.format(file_type)\n",
    "    file1 = os.path.join(folder,list_path[0])\n",
    "    file2 = os.path.join(folder,list_path[1])\n",
    "    output = folder1+'\\\\try1.tif'\n",
    "    subprocess.call(['python',gm,'-o',output,file1,file2],shell=True)\n",
    "    i=2\n",
    "    file1=os.path.join(folder1,'try1.tif')\n",
    "    for tfl in os.listdir(folder):\n",
    "        print(tfl)\n",
    "        file2 = os.path.join(folder, tfl)\n",
    "        output=os.path.join(folder1,'try{}.tif'.format(i))\n",
    "        list_path.append(file2)\n",
    "        try:\n",
    "            subprocess.call([gm,'-o',output,file1,file2],shell=True)\n",
    "            os.remove(file1)\n",
    "            file1=output\n",
    "        except:\n",
    "            print(file1, file2, 'error')\n",
    "            break\n",
    "        i+=1\n",
    "    return output"
   ]
  },
  {
   "cell_type": "code",
   "execution_count": 57,
   "metadata": {},
   "outputs": [
    {
     "data": {
      "text/plain": [
       "(0,)"
      ]
     },
     "execution_count": 57,
     "metadata": {},
     "output_type": "execute_result"
    }
   ],
   "source": [
    "def get_chm(name1, name2): # canopy height model = DSM- DTM\n",
    "    folder1=r'\\merged_dtm'\n",
    "    folder2=r'\\merged_dsm'\n",
    "    file1=os.path.join(folder1,name1)\n",
    "    file2=os.path.join(folder2,name2)\n",
    "    output=os.path.join(folder2,'CHM.tif')\n",
    "    subprocess.call(['python',gc, '-A',file1,'-B', file2, '--outfile={}'.format(output),'--calc=B-A' ],shell=True), \n",
    "    #gdal_calc.py -A input1.tif -B input2.tif --outfile=result.tif --calc=\"A+B\"\n",
    "    return output"
   ]
  },
  {
   "cell_type": "code",
   "execution_count": null,
   "metadata": {},
   "outputs": [],
   "source": [
    "# In advance I created folders merged_dsm and merged_dtm to store the merged file\n",
    "# Lidar data was downloaded from DEFRA website and unpacked to lidar_dsm and lidar_dtm folders\n",
    "merged_dsm_way=get_merged_tif('dsm')\n",
    "merged_dtm_way=get_merged_tif('dtm')"
   ]
  },
  {
   "cell_type": "code",
   "execution_count": null,
   "metadata": {},
   "outputs": [],
   "source": [
    "# This code calculates height of analysed lands in Bromley \n",
    "chm_way=get_chm(merged_dtm_way, merged_dsm_way)\n",
    "\n",
    "df_bromley=gpd.read_file(r'\\planning_applications.gpkg')\n",
    "\n",
    "CHMbuildings = rs.zonal_stats(df_bromley, output, prefix='CHM_', geojson_out=True)\n",
    "df_bromley_new = gpd.GeoDataFrame.from_features(CHMbuildings)"
   ]
  },
  {
   "cell_type": "code",
   "execution_count": 68,
   "metadata": {},
   "outputs": [
    {
     "data": {
      "text/html": [
       "<div>\n",
       "<style scoped>\n",
       "    .dataframe tbody tr th:only-of-type {\n",
       "        vertical-align: middle;\n",
       "    }\n",
       "\n",
       "    .dataframe tbody tr th {\n",
       "        vertical-align: top;\n",
       "    }\n",
       "\n",
       "    .dataframe thead th {\n",
       "        text-align: right;\n",
       "    }\n",
       "</style>\n",
       "<table border=\"1\" class=\"dataframe\">\n",
       "  <thead>\n",
       "    <tr style=\"text-align: right;\">\n",
       "      <th></th>\n",
       "      <th>max_height</th>\n",
       "      <th>CHM_max</th>\n",
       "      <th>CHM_mean</th>\n",
       "      <th>CHM_count</th>\n",
       "    </tr>\n",
       "  </thead>\n",
       "  <tbody>\n",
       "    <tr>\n",
       "      <td>0</td>\n",
       "      <td>NaN</td>\n",
       "      <td>9.717003</td>\n",
       "      <td>2.709674</td>\n",
       "      <td>307</td>\n",
       "    </tr>\n",
       "    <tr>\n",
       "      <td>1</td>\n",
       "      <td>8.802</td>\n",
       "      <td>9.084999</td>\n",
       "      <td>4.347357</td>\n",
       "      <td>319</td>\n",
       "    </tr>\n",
       "    <tr>\n",
       "      <td>2</td>\n",
       "      <td>9.190</td>\n",
       "      <td>10.388000</td>\n",
       "      <td>4.799351</td>\n",
       "      <td>348</td>\n",
       "    </tr>\n",
       "    <tr>\n",
       "      <td>3</td>\n",
       "      <td>9.730</td>\n",
       "      <td>10.388000</td>\n",
       "      <td>4.717274</td>\n",
       "      <td>354</td>\n",
       "    </tr>\n",
       "    <tr>\n",
       "      <td>4</td>\n",
       "      <td>9.710</td>\n",
       "      <td>9.136993</td>\n",
       "      <td>3.673405</td>\n",
       "      <td>324</td>\n",
       "    </tr>\n",
       "    <tr>\n",
       "      <td>...</td>\n",
       "      <td>...</td>\n",
       "      <td>...</td>\n",
       "      <td>...</td>\n",
       "      <td>...</td>\n",
       "    </tr>\n",
       "    <tr>\n",
       "      <td>108</td>\n",
       "      <td>9.000</td>\n",
       "      <td>8.660000</td>\n",
       "      <td>1.922396</td>\n",
       "      <td>192</td>\n",
       "    </tr>\n",
       "    <tr>\n",
       "      <td>109</td>\n",
       "      <td>9.000</td>\n",
       "      <td>8.840000</td>\n",
       "      <td>1.613641</td>\n",
       "      <td>228</td>\n",
       "    </tr>\n",
       "    <tr>\n",
       "      <td>110</td>\n",
       "      <td>12.000</td>\n",
       "      <td>8.600002</td>\n",
       "      <td>2.471916</td>\n",
       "      <td>261</td>\n",
       "    </tr>\n",
       "    <tr>\n",
       "      <td>111</td>\n",
       "      <td>7.490</td>\n",
       "      <td>8.410004</td>\n",
       "      <td>3.386188</td>\n",
       "      <td>244</td>\n",
       "    </tr>\n",
       "    <tr>\n",
       "      <td>112</td>\n",
       "      <td>8.160</td>\n",
       "      <td>8.410004</td>\n",
       "      <td>3.092884</td>\n",
       "      <td>267</td>\n",
       "    </tr>\n",
       "  </tbody>\n",
       "</table>\n",
       "<p>113 rows × 4 columns</p>\n",
       "</div>"
      ],
      "text/plain": [
       "     max_height    CHM_max  CHM_mean  CHM_count\n",
       "0           NaN   9.717003  2.709674        307\n",
       "1         8.802   9.084999  4.347357        319\n",
       "2         9.190  10.388000  4.799351        348\n",
       "3         9.730  10.388000  4.717274        354\n",
       "4         9.710   9.136993  3.673405        324\n",
       "..          ...        ...       ...        ...\n",
       "108       9.000   8.660000  1.922396        192\n",
       "109       9.000   8.840000  1.613641        228\n",
       "110      12.000   8.600002  2.471916        261\n",
       "111       7.490   8.410004  3.386188        244\n",
       "112       8.160   8.410004  3.092884        267\n",
       "\n",
       "[113 rows x 4 columns]"
      ]
     },
     "execution_count": 68,
     "metadata": {},
     "output_type": "execute_result"
    }
   ],
   "source": [
    "# Compare max_height\n",
    "df_bromley_new[['max_height']+df_bromley_new.columns[-3:].tolist()]"
   ]
  },
  {
   "cell_type": "markdown",
   "metadata": {},
   "source": [
    "### Next\n",
    "The next step is to identify neigbors( location, radius) and define what metrics we want to calculate ( mean, median, quantiles). To identify neigbors I suggest to use land registry data and buffer function. "
   ]
  }
 ],
 "metadata": {
  "kernelspec": {
   "display_name": "Python 3",
   "language": "python",
   "name": "python3"
  },
  "language_info": {
   "codemirror_mode": {
    "name": "ipython",
    "version": 3
   },
   "file_extension": ".py",
   "mimetype": "text/x-python",
   "name": "python",
   "nbconvert_exporter": "python",
   "pygments_lexer": "ipython3",
   "version": "3.7.4"
  }
 },
 "nbformat": 4,
 "nbformat_minor": 2
}
